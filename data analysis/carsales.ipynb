{
 "cells": [
  {
   "cell_type": "code",
   "execution_count": 72,
   "id": "8305989d-88f7-46cd-84ac-6bd2fb331dc0",
   "metadata": {},
   "outputs": [],
   "source": [
    "import pandas as pd\n",
    "import numpy as np\n",
    "import seaborn as sns\n",
    "import matplotlib.pyplot as plt"
   ]
  },
  {
   "cell_type": "code",
   "execution_count": 73,
   "id": "3c5d89a2-84c9-4c1d-b4d6-3841fc54c55c",
   "metadata": {},
   "outputs": [],
   "source": [
    "df = pd.read_csv(\"carsales.csv\")"
   ]
  },
  {
   "cell_type": "code",
   "execution_count": 74,
   "id": "6ab5faed-37e4-43af-bcdf-4b8b1ed95540",
   "metadata": {},
   "outputs": [
    {
     "data": {
      "text/html": [
       "<div>\n",
       "<style scoped>\n",
       "    .dataframe tbody tr th:only-of-type {\n",
       "        vertical-align: middle;\n",
       "    }\n",
       "\n",
       "    .dataframe tbody tr th {\n",
       "        vertical-align: top;\n",
       "    }\n",
       "\n",
       "    .dataframe thead th {\n",
       "        text-align: right;\n",
       "    }\n",
       "</style>\n",
       "<table border=\"1\" class=\"dataframe\">\n",
       "  <thead>\n",
       "    <tr style=\"text-align: right;\">\n",
       "      <th></th>\n",
       "      <th>Car_id</th>\n",
       "      <th>Date</th>\n",
       "      <th>Customer Name</th>\n",
       "      <th>Gender</th>\n",
       "      <th>Annual Income</th>\n",
       "      <th>Dealer_Name</th>\n",
       "      <th>Company</th>\n",
       "      <th>Model</th>\n",
       "      <th>Engine</th>\n",
       "      <th>Transmission</th>\n",
       "      <th>Color</th>\n",
       "      <th>Price ($)</th>\n",
       "      <th>Dealer_No</th>\n",
       "      <th>Body Style</th>\n",
       "      <th>Phone</th>\n",
       "      <th>Dealer_Region</th>\n",
       "    </tr>\n",
       "  </thead>\n",
       "  <tbody>\n",
       "    <tr>\n",
       "      <th>0</th>\n",
       "      <td>C_CND_000001</td>\n",
       "      <td>1/2/2022</td>\n",
       "      <td>Geraldine</td>\n",
       "      <td>Male</td>\n",
       "      <td>13500</td>\n",
       "      <td>Buddy Storbeck's Diesel Service Inc</td>\n",
       "      <td>Ford</td>\n",
       "      <td>Expedition</td>\n",
       "      <td>DoubleÂ Overhead Camshaft</td>\n",
       "      <td>Auto</td>\n",
       "      <td>Black</td>\n",
       "      <td>26000</td>\n",
       "      <td>06457-3834</td>\n",
       "      <td>SUV</td>\n",
       "      <td>8264678</td>\n",
       "      <td>Middletown</td>\n",
       "    </tr>\n",
       "    <tr>\n",
       "      <th>1</th>\n",
       "      <td>C_CND_000002</td>\n",
       "      <td>1/2/2022</td>\n",
       "      <td>Gia</td>\n",
       "      <td>Male</td>\n",
       "      <td>1480000</td>\n",
       "      <td>C &amp; M Motors Inc</td>\n",
       "      <td>Dodge</td>\n",
       "      <td>Durango</td>\n",
       "      <td>DoubleÂ Overhead Camshaft</td>\n",
       "      <td>Auto</td>\n",
       "      <td>Black</td>\n",
       "      <td>19000</td>\n",
       "      <td>60504-7114</td>\n",
       "      <td>SUV</td>\n",
       "      <td>6848189</td>\n",
       "      <td>Aurora</td>\n",
       "    </tr>\n",
       "    <tr>\n",
       "      <th>2</th>\n",
       "      <td>C_CND_000003</td>\n",
       "      <td>1/2/2022</td>\n",
       "      <td>Gianna</td>\n",
       "      <td>Male</td>\n",
       "      <td>1035000</td>\n",
       "      <td>Capitol KIA</td>\n",
       "      <td>Cadillac</td>\n",
       "      <td>Eldorado</td>\n",
       "      <td>Overhead Camshaft</td>\n",
       "      <td>Manual</td>\n",
       "      <td>Red</td>\n",
       "      <td>31500</td>\n",
       "      <td>38701-8047</td>\n",
       "      <td>Passenger</td>\n",
       "      <td>7298798</td>\n",
       "      <td>Greenville</td>\n",
       "    </tr>\n",
       "  </tbody>\n",
       "</table>\n",
       "</div>"
      ],
      "text/plain": [
       "         Car_id      Date Customer Name Gender  Annual Income  \\\n",
       "0  C_CND_000001  1/2/2022     Geraldine   Male          13500   \n",
       "1  C_CND_000002  1/2/2022           Gia   Male        1480000   \n",
       "2  C_CND_000003  1/2/2022        Gianna   Male        1035000   \n",
       "\n",
       "                           Dealer_Name   Company       Model  \\\n",
       "0  Buddy Storbeck's Diesel Service Inc      Ford  Expedition   \n",
       "1                     C & M Motors Inc     Dodge     Durango   \n",
       "2                          Capitol KIA  Cadillac    Eldorado   \n",
       "\n",
       "                      Engine Transmission  Color  Price ($)  Dealer_No   \\\n",
       "0  DoubleÂ Overhead Camshaft         Auto  Black      26000  06457-3834   \n",
       "1  DoubleÂ Overhead Camshaft         Auto  Black      19000  60504-7114   \n",
       "2          Overhead Camshaft       Manual    Red      31500  38701-8047   \n",
       "\n",
       "  Body Style    Phone Dealer_Region  \n",
       "0        SUV  8264678    Middletown  \n",
       "1        SUV  6848189        Aurora  \n",
       "2  Passenger  7298798    Greenville  "
      ]
     },
     "execution_count": 74,
     "metadata": {},
     "output_type": "execute_result"
    }
   ],
   "source": [
    "df.head(3)"
   ]
  },
  {
   "cell_type": "code",
   "execution_count": 75,
   "id": "72e1911b-0a47-4dff-af2e-01ebd241019d",
   "metadata": {},
   "outputs": [
    {
     "data": {
      "text/html": [
       "<div>\n",
       "<style scoped>\n",
       "    .dataframe tbody tr th:only-of-type {\n",
       "        vertical-align: middle;\n",
       "    }\n",
       "\n",
       "    .dataframe tbody tr th {\n",
       "        vertical-align: top;\n",
       "    }\n",
       "\n",
       "    .dataframe thead th {\n",
       "        text-align: right;\n",
       "    }\n",
       "</style>\n",
       "<table border=\"1\" class=\"dataframe\">\n",
       "  <thead>\n",
       "    <tr style=\"text-align: right;\">\n",
       "      <th></th>\n",
       "      <th>Car_id</th>\n",
       "      <th>Date</th>\n",
       "      <th>Customer Name</th>\n",
       "      <th>Gender</th>\n",
       "      <th>Annual Income</th>\n",
       "      <th>Dealer_Name</th>\n",
       "      <th>Company</th>\n",
       "      <th>Model</th>\n",
       "      <th>Engine</th>\n",
       "      <th>Transmission</th>\n",
       "      <th>Color</th>\n",
       "      <th>Price ($)</th>\n",
       "      <th>Dealer_No</th>\n",
       "      <th>Body Style</th>\n",
       "      <th>Phone</th>\n",
       "      <th>Dealer_Region</th>\n",
       "    </tr>\n",
       "  </thead>\n",
       "  <tbody>\n",
       "    <tr>\n",
       "      <th>23903</th>\n",
       "      <td>C_CND_023904</td>\n",
       "      <td>12/31/2023</td>\n",
       "      <td>Emma</td>\n",
       "      <td>Male</td>\n",
       "      <td>705000</td>\n",
       "      <td>Chrysler of Tri-Cities</td>\n",
       "      <td>BMW</td>\n",
       "      <td>328i</td>\n",
       "      <td>Overhead Camshaft</td>\n",
       "      <td>Manual</td>\n",
       "      <td>Red</td>\n",
       "      <td>21000</td>\n",
       "      <td>99301-3882</td>\n",
       "      <td>Sedan</td>\n",
       "      <td>7659127</td>\n",
       "      <td>Scottsdale</td>\n",
       "    </tr>\n",
       "    <tr>\n",
       "      <th>23904</th>\n",
       "      <td>C_CND_023905</td>\n",
       "      <td>12/31/2023</td>\n",
       "      <td>Victoire</td>\n",
       "      <td>Male</td>\n",
       "      <td>13500</td>\n",
       "      <td>Chrysler Plymouth</td>\n",
       "      <td>Chevrolet</td>\n",
       "      <td>Metro</td>\n",
       "      <td>DoubleÂ Overhead Camshaft</td>\n",
       "      <td>Auto</td>\n",
       "      <td>Black</td>\n",
       "      <td>31000</td>\n",
       "      <td>53546-9427</td>\n",
       "      <td>Passenger</td>\n",
       "      <td>6030764</td>\n",
       "      <td>Austin</td>\n",
       "    </tr>\n",
       "    <tr>\n",
       "      <th>23905</th>\n",
       "      <td>C_CND_023906</td>\n",
       "      <td>12/31/2023</td>\n",
       "      <td>Donovan</td>\n",
       "      <td>Male</td>\n",
       "      <td>1225000</td>\n",
       "      <td>Pars Auto Sales</td>\n",
       "      <td>Lexus</td>\n",
       "      <td>ES300</td>\n",
       "      <td>DoubleÂ Overhead Camshaft</td>\n",
       "      <td>Auto</td>\n",
       "      <td>Pale White</td>\n",
       "      <td>27500</td>\n",
       "      <td>38701-8047</td>\n",
       "      <td>Hardtop</td>\n",
       "      <td>7020564</td>\n",
       "      <td>Middletown</td>\n",
       "    </tr>\n",
       "  </tbody>\n",
       "</table>\n",
       "</div>"
      ],
      "text/plain": [
       "             Car_id        Date Customer Name Gender  Annual Income  \\\n",
       "23903  C_CND_023904  12/31/2023          Emma   Male         705000   \n",
       "23904  C_CND_023905  12/31/2023      Victoire   Male          13500   \n",
       "23905  C_CND_023906  12/31/2023       Donovan   Male        1225000   \n",
       "\n",
       "                  Dealer_Name    Company  Model                     Engine  \\\n",
       "23903  Chrysler of Tri-Cities        BMW   328i          Overhead Camshaft   \n",
       "23904       Chrysler Plymouth  Chevrolet  Metro  DoubleÂ Overhead Camshaft   \n",
       "23905         Pars Auto Sales      Lexus  ES300  DoubleÂ Overhead Camshaft   \n",
       "\n",
       "      Transmission       Color  Price ($)  Dealer_No  Body Style    Phone  \\\n",
       "23903       Manual         Red      21000  99301-3882      Sedan  7659127   \n",
       "23904         Auto       Black      31000  53546-9427  Passenger  6030764   \n",
       "23905         Auto  Pale White      27500  38701-8047    Hardtop  7020564   \n",
       "\n",
       "      Dealer_Region  \n",
       "23903    Scottsdale  \n",
       "23904        Austin  \n",
       "23905    Middletown  "
      ]
     },
     "execution_count": 75,
     "metadata": {},
     "output_type": "execute_result"
    }
   ],
   "source": [
    "df.tail(3)"
   ]
  },
  {
   "cell_type": "code",
   "execution_count": 76,
   "id": "1cbde45d-f446-4229-9526-defc6e4bc48b",
   "metadata": {},
   "outputs": [
    {
     "data": {
      "text/html": [
       "<div>\n",
       "<style scoped>\n",
       "    .dataframe tbody tr th:only-of-type {\n",
       "        vertical-align: middle;\n",
       "    }\n",
       "\n",
       "    .dataframe tbody tr th {\n",
       "        vertical-align: top;\n",
       "    }\n",
       "\n",
       "    .dataframe thead th {\n",
       "        text-align: right;\n",
       "    }\n",
       "</style>\n",
       "<table border=\"1\" class=\"dataframe\">\n",
       "  <thead>\n",
       "    <tr style=\"text-align: right;\">\n",
       "      <th></th>\n",
       "      <th>Car_id</th>\n",
       "      <th>Date</th>\n",
       "      <th>Customer Name</th>\n",
       "      <th>Gender</th>\n",
       "      <th>Annual Income</th>\n",
       "      <th>Dealer_Name</th>\n",
       "      <th>Company</th>\n",
       "      <th>Model</th>\n",
       "      <th>Engine</th>\n",
       "      <th>Transmission</th>\n",
       "      <th>Color</th>\n",
       "      <th>Price ($)</th>\n",
       "      <th>Dealer_No</th>\n",
       "      <th>Body Style</th>\n",
       "      <th>Phone</th>\n",
       "      <th>Dealer_Region</th>\n",
       "    </tr>\n",
       "  </thead>\n",
       "  <tbody>\n",
       "    <tr>\n",
       "      <th>21440</th>\n",
       "      <td>C_CND_021441</td>\n",
       "      <td>11/21/2023</td>\n",
       "      <td>Damien</td>\n",
       "      <td>Male</td>\n",
       "      <td>1320000</td>\n",
       "      <td>C &amp; M Motors Inc</td>\n",
       "      <td>Mercury</td>\n",
       "      <td>Mountaineer</td>\n",
       "      <td>Overhead Camshaft</td>\n",
       "      <td>Manual</td>\n",
       "      <td>Pale White</td>\n",
       "      <td>21000</td>\n",
       "      <td>60504-7114</td>\n",
       "      <td>Hardtop</td>\n",
       "      <td>6523281</td>\n",
       "      <td>Greenville</td>\n",
       "    </tr>\n",
       "    <tr>\n",
       "      <th>12998</th>\n",
       "      <td>C_CND_012999</td>\n",
       "      <td>4/19/2023</td>\n",
       "      <td>Mathys</td>\n",
       "      <td>Male</td>\n",
       "      <td>2200000</td>\n",
       "      <td>Ryder Truck Rental and Leasing</td>\n",
       "      <td>Chevrolet</td>\n",
       "      <td>Prizm</td>\n",
       "      <td>DoubleÂ Overhead Camshaft</td>\n",
       "      <td>Auto</td>\n",
       "      <td>Red</td>\n",
       "      <td>15001</td>\n",
       "      <td>06457-3834</td>\n",
       "      <td>Hardtop</td>\n",
       "      <td>7100713</td>\n",
       "      <td>Middletown</td>\n",
       "    </tr>\n",
       "    <tr>\n",
       "      <th>12562</th>\n",
       "      <td>C_CND_012563</td>\n",
       "      <td>4/8/2023</td>\n",
       "      <td>Leela</td>\n",
       "      <td>Male</td>\n",
       "      <td>1160000</td>\n",
       "      <td>New Castle Ford Lincoln Mercury</td>\n",
       "      <td>Chevrolet</td>\n",
       "      <td>Camaro</td>\n",
       "      <td>DoubleÂ Overhead Camshaft</td>\n",
       "      <td>Auto</td>\n",
       "      <td>Black</td>\n",
       "      <td>41000</td>\n",
       "      <td>60504-7114</td>\n",
       "      <td>Sedan</td>\n",
       "      <td>8699126</td>\n",
       "      <td>Aurora</td>\n",
       "    </tr>\n",
       "  </tbody>\n",
       "</table>\n",
       "</div>"
      ],
      "text/plain": [
       "             Car_id        Date Customer Name Gender  Annual Income  \\\n",
       "21440  C_CND_021441  11/21/2023        Damien   Male        1320000   \n",
       "12998  C_CND_012999   4/19/2023        Mathys   Male        2200000   \n",
       "12562  C_CND_012563    4/8/2023         Leela   Male        1160000   \n",
       "\n",
       "                           Dealer_Name    Company        Model  \\\n",
       "21440                 C & M Motors Inc    Mercury  Mountaineer   \n",
       "12998   Ryder Truck Rental and Leasing  Chevrolet        Prizm   \n",
       "12562  New Castle Ford Lincoln Mercury  Chevrolet       Camaro   \n",
       "\n",
       "                          Engine Transmission       Color  Price ($)  \\\n",
       "21440          Overhead Camshaft       Manual  Pale White      21000   \n",
       "12998  DoubleÂ Overhead Camshaft         Auto         Red      15001   \n",
       "12562  DoubleÂ Overhead Camshaft         Auto       Black      41000   \n",
       "\n",
       "       Dealer_No  Body Style    Phone Dealer_Region  \n",
       "21440  60504-7114    Hardtop  6523281    Greenville  \n",
       "12998  06457-3834    Hardtop  7100713    Middletown  \n",
       "12562  60504-7114      Sedan  8699126        Aurora  "
      ]
     },
     "execution_count": 76,
     "metadata": {},
     "output_type": "execute_result"
    }
   ],
   "source": [
    "df.sample(3)"
   ]
  },
  {
   "cell_type": "code",
   "execution_count": 77,
   "id": "735a29ba-dd0b-49c0-9778-1d8784407677",
   "metadata": {},
   "outputs": [
    {
     "data": {
      "text/html": [
       "<div>\n",
       "<style scoped>\n",
       "    .dataframe tbody tr th:only-of-type {\n",
       "        vertical-align: middle;\n",
       "    }\n",
       "\n",
       "    .dataframe tbody tr th {\n",
       "        vertical-align: top;\n",
       "    }\n",
       "\n",
       "    .dataframe thead th {\n",
       "        text-align: right;\n",
       "    }\n",
       "</style>\n",
       "<table border=\"1\" class=\"dataframe\">\n",
       "  <thead>\n",
       "    <tr style=\"text-align: right;\">\n",
       "      <th></th>\n",
       "      <th>Annual Income</th>\n",
       "      <th>Price ($)</th>\n",
       "      <th>Phone</th>\n",
       "    </tr>\n",
       "  </thead>\n",
       "  <tbody>\n",
       "    <tr>\n",
       "      <th>count</th>\n",
       "      <td>2.390600e+04</td>\n",
       "      <td>23906.000000</td>\n",
       "      <td>2.390600e+04</td>\n",
       "    </tr>\n",
       "    <tr>\n",
       "      <th>mean</th>\n",
       "      <td>8.308403e+05</td>\n",
       "      <td>28090.247846</td>\n",
       "      <td>7.497741e+06</td>\n",
       "    </tr>\n",
       "    <tr>\n",
       "      <th>std</th>\n",
       "      <td>7.200064e+05</td>\n",
       "      <td>14788.687608</td>\n",
       "      <td>8.674920e+05</td>\n",
       "    </tr>\n",
       "    <tr>\n",
       "      <th>min</th>\n",
       "      <td>1.008000e+04</td>\n",
       "      <td>1200.000000</td>\n",
       "      <td>6.000101e+06</td>\n",
       "    </tr>\n",
       "    <tr>\n",
       "      <th>25%</th>\n",
       "      <td>3.860000e+05</td>\n",
       "      <td>18001.000000</td>\n",
       "      <td>6.746495e+06</td>\n",
       "    </tr>\n",
       "    <tr>\n",
       "      <th>50%</th>\n",
       "      <td>7.350000e+05</td>\n",
       "      <td>23000.000000</td>\n",
       "      <td>7.496198e+06</td>\n",
       "    </tr>\n",
       "    <tr>\n",
       "      <th>75%</th>\n",
       "      <td>1.175750e+06</td>\n",
       "      <td>34000.000000</td>\n",
       "      <td>8.248146e+06</td>\n",
       "    </tr>\n",
       "    <tr>\n",
       "      <th>max</th>\n",
       "      <td>1.120000e+07</td>\n",
       "      <td>85800.000000</td>\n",
       "      <td>8.999579e+06</td>\n",
       "    </tr>\n",
       "  </tbody>\n",
       "</table>\n",
       "</div>"
      ],
      "text/plain": [
       "       Annual Income     Price ($)         Phone\n",
       "count   2.390600e+04  23906.000000  2.390600e+04\n",
       "mean    8.308403e+05  28090.247846  7.497741e+06\n",
       "std     7.200064e+05  14788.687608  8.674920e+05\n",
       "min     1.008000e+04   1200.000000  6.000101e+06\n",
       "25%     3.860000e+05  18001.000000  6.746495e+06\n",
       "50%     7.350000e+05  23000.000000  7.496198e+06\n",
       "75%     1.175750e+06  34000.000000  8.248146e+06\n",
       "max     1.120000e+07  85800.000000  8.999579e+06"
      ]
     },
     "execution_count": 77,
     "metadata": {},
     "output_type": "execute_result"
    }
   ],
   "source": [
    "df.describe()"
   ]
  },
  {
   "cell_type": "code",
   "execution_count": 78,
   "id": "bc1a0f1e-b1eb-4643-a842-593999a7c56c",
   "metadata": {},
   "outputs": [
    {
     "data": {
      "text/plain": [
       "Car_id           0\n",
       "Date             0\n",
       "Customer Name    1\n",
       "Gender           0\n",
       "Annual Income    0\n",
       "Dealer_Name      0\n",
       "Company          0\n",
       "Model            0\n",
       "Engine           0\n",
       "Transmission     0\n",
       "Color            0\n",
       "Price ($)        0\n",
       "Dealer_No        0\n",
       "Body Style       0\n",
       "Phone            0\n",
       "Dealer_Region    0\n",
       "dtype: int64"
      ]
     },
     "execution_count": 78,
     "metadata": {},
     "output_type": "execute_result"
    }
   ],
   "source": [
    "df.isnull().sum()"
   ]
  },
  {
   "cell_type": "code",
   "execution_count": 79,
   "id": "dbc0014b-e031-48f8-9d0b-af17e7554f0d",
   "metadata": {},
   "outputs": [
    {
     "name": "stdout",
     "output_type": "stream",
     "text": [
      "<class 'pandas.core.frame.DataFrame'>\n",
      "RangeIndex: 23906 entries, 0 to 23905\n",
      "Data columns (total 16 columns):\n",
      " #   Column         Non-Null Count  Dtype \n",
      "---  ------         --------------  ----- \n",
      " 0   Car_id         23906 non-null  object\n",
      " 1   Date           23906 non-null  object\n",
      " 2   Customer Name  23905 non-null  object\n",
      " 3   Gender         23906 non-null  object\n",
      " 4   Annual Income  23906 non-null  int64 \n",
      " 5   Dealer_Name    23906 non-null  object\n",
      " 6   Company        23906 non-null  object\n",
      " 7   Model          23906 non-null  object\n",
      " 8   Engine         23906 non-null  object\n",
      " 9   Transmission   23906 non-null  object\n",
      " 10  Color          23906 non-null  object\n",
      " 11  Price ($)      23906 non-null  int64 \n",
      " 12  Dealer_No      23906 non-null  object\n",
      " 13  Body Style     23906 non-null  object\n",
      " 14  Phone          23906 non-null  int64 \n",
      " 15  Dealer_Region  23906 non-null  object\n",
      "dtypes: int64(3), object(13)\n",
      "memory usage: 2.9+ MB\n"
     ]
    }
   ],
   "source": [
    "df.info()"
   ]
  },
  {
   "cell_type": "code",
   "execution_count": 80,
   "id": "611f8e4a-f34d-4e89-9c60-6c9ce6e22f50",
   "metadata": {},
   "outputs": [
    {
     "data": {
      "text/plain": [
       "Car_id           object\n",
       "Date             object\n",
       "Customer Name    object\n",
       "Gender           object\n",
       "Annual Income     int64\n",
       "Dealer_Name      object\n",
       "Company          object\n",
       "Model            object\n",
       "Engine           object\n",
       "Transmission     object\n",
       "Color            object\n",
       "Price ($)         int64\n",
       "Dealer_No        object\n",
       "Body Style       object\n",
       "Phone             int64\n",
       "Dealer_Region    object\n",
       "dtype: object"
      ]
     },
     "execution_count": 80,
     "metadata": {},
     "output_type": "execute_result"
    }
   ],
   "source": [
    "df.dtypes"
   ]
  },
  {
   "cell_type": "code",
   "execution_count": 81,
   "id": "6f16afbe-ae57-4f5b-a2e2-0a9f791a5bc4",
   "metadata": {},
   "outputs": [
    {
     "data": {
      "text/plain": [
       "(23906, 16)"
      ]
     },
     "execution_count": 81,
     "metadata": {},
     "output_type": "execute_result"
    }
   ],
   "source": [
    "df.shape"
   ]
  },
  {
   "cell_type": "code",
   "execution_count": 82,
   "id": "e1550eb3-5ba1-41d0-8ac8-df247bbf4821",
   "metadata": {},
   "outputs": [
    {
     "data": {
      "text/plain": [
       "Index(['Car_id', 'Date', 'Customer Name', 'Gender', 'Annual Income',\n",
       "       'Dealer_Name', 'Company', 'Model', 'Engine', 'Transmission', 'Color',\n",
       "       'Price ($)', 'Dealer_No ', 'Body Style', 'Phone', 'Dealer_Region'],\n",
       "      dtype='object')"
      ]
     },
     "execution_count": 82,
     "metadata": {},
     "output_type": "execute_result"
    }
   ],
   "source": [
    "df.columns"
   ]
  },
  {
   "cell_type": "code",
   "execution_count": 83,
   "id": "1c6f75fe-f5c7-45a0-86ab-67cb15e9bca6",
   "metadata": {},
   "outputs": [
    {
     "data": {
      "text/html": [
       "<div>\n",
       "<style scoped>\n",
       "    .dataframe tbody tr th:only-of-type {\n",
       "        vertical-align: middle;\n",
       "    }\n",
       "\n",
       "    .dataframe tbody tr th {\n",
       "        vertical-align: top;\n",
       "    }\n",
       "\n",
       "    .dataframe thead th {\n",
       "        text-align: right;\n",
       "    }\n",
       "</style>\n",
       "<table border=\"1\" class=\"dataframe\">\n",
       "  <thead>\n",
       "    <tr style=\"text-align: right;\">\n",
       "      <th></th>\n",
       "      <th>car name</th>\n",
       "      <th>Date</th>\n",
       "      <th>Customer Name</th>\n",
       "      <th>Gender</th>\n",
       "      <th>Annual Income</th>\n",
       "      <th>dealer name</th>\n",
       "      <th>Company</th>\n",
       "      <th>Model</th>\n",
       "      <th>Engine</th>\n",
       "      <th>Transmission</th>\n",
       "      <th>Color</th>\n",
       "      <th>price</th>\n",
       "      <th>Dealer_No</th>\n",
       "      <th>Body Style</th>\n",
       "      <th>Phone</th>\n",
       "      <th>dealer region</th>\n",
       "    </tr>\n",
       "  </thead>\n",
       "  <tbody>\n",
       "    <tr>\n",
       "      <th>0</th>\n",
       "      <td>C_CND_000001</td>\n",
       "      <td>1/2/2022</td>\n",
       "      <td>Geraldine</td>\n",
       "      <td>Male</td>\n",
       "      <td>13500</td>\n",
       "      <td>Buddy Storbeck's Diesel Service Inc</td>\n",
       "      <td>Ford</td>\n",
       "      <td>Expedition</td>\n",
       "      <td>DoubleÂ Overhead Camshaft</td>\n",
       "      <td>Auto</td>\n",
       "      <td>Black</td>\n",
       "      <td>26000</td>\n",
       "      <td>06457-3834</td>\n",
       "      <td>SUV</td>\n",
       "      <td>8264678</td>\n",
       "      <td>Middletown</td>\n",
       "    </tr>\n",
       "    <tr>\n",
       "      <th>1</th>\n",
       "      <td>C_CND_000002</td>\n",
       "      <td>1/2/2022</td>\n",
       "      <td>Gia</td>\n",
       "      <td>Male</td>\n",
       "      <td>1480000</td>\n",
       "      <td>C &amp; M Motors Inc</td>\n",
       "      <td>Dodge</td>\n",
       "      <td>Durango</td>\n",
       "      <td>DoubleÂ Overhead Camshaft</td>\n",
       "      <td>Auto</td>\n",
       "      <td>Black</td>\n",
       "      <td>19000</td>\n",
       "      <td>60504-7114</td>\n",
       "      <td>SUV</td>\n",
       "      <td>6848189</td>\n",
       "      <td>Aurora</td>\n",
       "    </tr>\n",
       "    <tr>\n",
       "      <th>2</th>\n",
       "      <td>C_CND_000003</td>\n",
       "      <td>1/2/2022</td>\n",
       "      <td>Gianna</td>\n",
       "      <td>Male</td>\n",
       "      <td>1035000</td>\n",
       "      <td>Capitol KIA</td>\n",
       "      <td>Cadillac</td>\n",
       "      <td>Eldorado</td>\n",
       "      <td>Overhead Camshaft</td>\n",
       "      <td>Manual</td>\n",
       "      <td>Red</td>\n",
       "      <td>31500</td>\n",
       "      <td>38701-8047</td>\n",
       "      <td>Passenger</td>\n",
       "      <td>7298798</td>\n",
       "      <td>Greenville</td>\n",
       "    </tr>\n",
       "  </tbody>\n",
       "</table>\n",
       "</div>"
      ],
      "text/plain": [
       "       car name      Date Customer Name Gender  Annual Income  \\\n",
       "0  C_CND_000001  1/2/2022     Geraldine   Male          13500   \n",
       "1  C_CND_000002  1/2/2022           Gia   Male        1480000   \n",
       "2  C_CND_000003  1/2/2022        Gianna   Male        1035000   \n",
       "\n",
       "                           dealer name   Company       Model  \\\n",
       "0  Buddy Storbeck's Diesel Service Inc      Ford  Expedition   \n",
       "1                     C & M Motors Inc     Dodge     Durango   \n",
       "2                          Capitol KIA  Cadillac    Eldorado   \n",
       "\n",
       "                      Engine Transmission  Color  price  Dealer_No   \\\n",
       "0  DoubleÂ Overhead Camshaft         Auto  Black  26000  06457-3834   \n",
       "1  DoubleÂ Overhead Camshaft         Auto  Black  19000  60504-7114   \n",
       "2          Overhead Camshaft       Manual    Red  31500  38701-8047   \n",
       "\n",
       "  Body Style    Phone dealer region  \n",
       "0        SUV  8264678    Middletown  \n",
       "1        SUV  6848189        Aurora  \n",
       "2  Passenger  7298798    Greenville  "
      ]
     },
     "execution_count": 83,
     "metadata": {},
     "output_type": "execute_result"
    }
   ],
   "source": [
    "df.rename(columns={\"Car_id\":\"car name\",\n",
    "                  \"Dealer_Name\":\"dealer name\",\n",
    "                  \"Price ($)\":\"price\",\n",
    "                  \"dealer_no \":\"dealer no\",\n",
    "                  \"Dealer_Region\":\"dealer region\"},inplace=True)\n",
    "df.head(3)"
   ]
  },
  {
   "cell_type": "code",
   "execution_count": 84,
   "id": "2167013b-d51b-4857-9703-a32d5719825f",
   "metadata": {},
   "outputs": [
    {
     "data": {
      "text/html": [
       "<div>\n",
       "<style scoped>\n",
       "    .dataframe tbody tr th:only-of-type {\n",
       "        vertical-align: middle;\n",
       "    }\n",
       "\n",
       "    .dataframe tbody tr th {\n",
       "        vertical-align: top;\n",
       "    }\n",
       "\n",
       "    .dataframe thead th {\n",
       "        text-align: right;\n",
       "    }\n",
       "</style>\n",
       "<table border=\"1\" class=\"dataframe\">\n",
       "  <thead>\n",
       "    <tr style=\"text-align: right;\">\n",
       "      <th></th>\n",
       "      <th>car name</th>\n",
       "      <th>date</th>\n",
       "      <th>customer name</th>\n",
       "      <th>gender</th>\n",
       "      <th>annual income</th>\n",
       "      <th>dealer name</th>\n",
       "      <th>company</th>\n",
       "      <th>model</th>\n",
       "      <th>engine</th>\n",
       "      <th>transmission</th>\n",
       "      <th>color</th>\n",
       "      <th>price</th>\n",
       "      <th>dealer_no</th>\n",
       "      <th>body style</th>\n",
       "      <th>phone</th>\n",
       "      <th>dealer region</th>\n",
       "    </tr>\n",
       "  </thead>\n",
       "  <tbody>\n",
       "    <tr>\n",
       "      <th>0</th>\n",
       "      <td>C_CND_000001</td>\n",
       "      <td>1/2/2022</td>\n",
       "      <td>Geraldine</td>\n",
       "      <td>Male</td>\n",
       "      <td>13500</td>\n",
       "      <td>Buddy Storbeck's Diesel Service Inc</td>\n",
       "      <td>Ford</td>\n",
       "      <td>Expedition</td>\n",
       "      <td>DoubleÂ Overhead Camshaft</td>\n",
       "      <td>Auto</td>\n",
       "      <td>Black</td>\n",
       "      <td>26000</td>\n",
       "      <td>06457-3834</td>\n",
       "      <td>SUV</td>\n",
       "      <td>8264678</td>\n",
       "      <td>Middletown</td>\n",
       "    </tr>\n",
       "    <tr>\n",
       "      <th>1</th>\n",
       "      <td>C_CND_000002</td>\n",
       "      <td>1/2/2022</td>\n",
       "      <td>Gia</td>\n",
       "      <td>Male</td>\n",
       "      <td>1480000</td>\n",
       "      <td>C &amp; M Motors Inc</td>\n",
       "      <td>Dodge</td>\n",
       "      <td>Durango</td>\n",
       "      <td>DoubleÂ Overhead Camshaft</td>\n",
       "      <td>Auto</td>\n",
       "      <td>Black</td>\n",
       "      <td>19000</td>\n",
       "      <td>60504-7114</td>\n",
       "      <td>SUV</td>\n",
       "      <td>6848189</td>\n",
       "      <td>Aurora</td>\n",
       "    </tr>\n",
       "    <tr>\n",
       "      <th>2</th>\n",
       "      <td>C_CND_000003</td>\n",
       "      <td>1/2/2022</td>\n",
       "      <td>Gianna</td>\n",
       "      <td>Male</td>\n",
       "      <td>1035000</td>\n",
       "      <td>Capitol KIA</td>\n",
       "      <td>Cadillac</td>\n",
       "      <td>Eldorado</td>\n",
       "      <td>Overhead Camshaft</td>\n",
       "      <td>Manual</td>\n",
       "      <td>Red</td>\n",
       "      <td>31500</td>\n",
       "      <td>38701-8047</td>\n",
       "      <td>Passenger</td>\n",
       "      <td>7298798</td>\n",
       "      <td>Greenville</td>\n",
       "    </tr>\n",
       "  </tbody>\n",
       "</table>\n",
       "</div>"
      ],
      "text/plain": [
       "       car name      date customer name gender  annual income  \\\n",
       "0  C_CND_000001  1/2/2022     Geraldine   Male          13500   \n",
       "1  C_CND_000002  1/2/2022           Gia   Male        1480000   \n",
       "2  C_CND_000003  1/2/2022        Gianna   Male        1035000   \n",
       "\n",
       "                           dealer name   company       model  \\\n",
       "0  Buddy Storbeck's Diesel Service Inc      Ford  Expedition   \n",
       "1                     C & M Motors Inc     Dodge     Durango   \n",
       "2                          Capitol KIA  Cadillac    Eldorado   \n",
       "\n",
       "                      engine transmission  color  price  dealer_no   \\\n",
       "0  DoubleÂ Overhead Camshaft         Auto  Black  26000  06457-3834   \n",
       "1  DoubleÂ Overhead Camshaft         Auto  Black  19000  60504-7114   \n",
       "2          Overhead Camshaft       Manual    Red  31500  38701-8047   \n",
       "\n",
       "  body style    phone dealer region  \n",
       "0        SUV  8264678    Middletown  \n",
       "1        SUV  6848189        Aurora  \n",
       "2  Passenger  7298798    Greenville  "
      ]
     },
     "execution_count": 84,
     "metadata": {},
     "output_type": "execute_result"
    }
   ],
   "source": [
    "df = df.rename(str.lower,axis=\"columns\")\n",
    "df.head(3)"
   ]
  },
  {
   "cell_type": "code",
   "execution_count": 85,
   "id": "a0feeb01-cf03-429b-bd86-da503eaac8f7",
   "metadata": {},
   "outputs": [
    {
     "data": {
      "text/html": [
       "<div>\n",
       "<style scoped>\n",
       "    .dataframe tbody tr th:only-of-type {\n",
       "        vertical-align: middle;\n",
       "    }\n",
       "\n",
       "    .dataframe tbody tr th {\n",
       "        vertical-align: top;\n",
       "    }\n",
       "\n",
       "    .dataframe thead th {\n",
       "        text-align: right;\n",
       "    }\n",
       "</style>\n",
       "<table border=\"1\" class=\"dataframe\">\n",
       "  <thead>\n",
       "    <tr style=\"text-align: right;\">\n",
       "      <th></th>\n",
       "      <th>car name</th>\n",
       "      <th>date</th>\n",
       "      <th>customer name</th>\n",
       "      <th>gender</th>\n",
       "      <th>annual income</th>\n",
       "      <th>dealer name</th>\n",
       "      <th>company</th>\n",
       "      <th>model</th>\n",
       "      <th>engine</th>\n",
       "      <th>transmission</th>\n",
       "      <th>color</th>\n",
       "      <th>price</th>\n",
       "      <th>dealer_no</th>\n",
       "      <th>body style</th>\n",
       "      <th>phone</th>\n",
       "      <th>dealer region</th>\n",
       "    </tr>\n",
       "  </thead>\n",
       "  <tbody>\n",
       "    <tr>\n",
       "      <th>14101</th>\n",
       "      <td>C_CND_014102</td>\n",
       "      <td>5-27-2023</td>\n",
       "      <td>Bryan</td>\n",
       "      <td>Male</td>\n",
       "      <td>366000</td>\n",
       "      <td>Clay Johnson Auto Sales</td>\n",
       "      <td>Ford</td>\n",
       "      <td>Focus</td>\n",
       "      <td>Overhead Camshaft</td>\n",
       "      <td>Manual</td>\n",
       "      <td>Red</td>\n",
       "      <td>17000</td>\n",
       "      <td>78758-7841</td>\n",
       "      <td>Hardtop</td>\n",
       "      <td>7877403</td>\n",
       "      <td>Austin</td>\n",
       "    </tr>\n",
       "    <tr>\n",
       "      <th>211</th>\n",
       "      <td>C_CND_000212</td>\n",
       "      <td>1-19-2022</td>\n",
       "      <td>Hugo</td>\n",
       "      <td>Male</td>\n",
       "      <td>1372500</td>\n",
       "      <td>Suburban Ford</td>\n",
       "      <td>Nissan</td>\n",
       "      <td>Xterra</td>\n",
       "      <td>DoubleÂ Overhead Camshaft</td>\n",
       "      <td>Auto</td>\n",
       "      <td>Black</td>\n",
       "      <td>9250</td>\n",
       "      <td>53546-9427</td>\n",
       "      <td>Passenger</td>\n",
       "      <td>6171876</td>\n",
       "      <td>Janesville</td>\n",
       "    </tr>\n",
       "  </tbody>\n",
       "</table>\n",
       "</div>"
      ],
      "text/plain": [
       "           car name       date customer name gender  annual income  \\\n",
       "14101  C_CND_014102  5-27-2023         Bryan   Male         366000   \n",
       "211    C_CND_000212  1-19-2022          Hugo   Male        1372500   \n",
       "\n",
       "                   dealer name company   model                     engine  \\\n",
       "14101  Clay Johnson Auto Sales    Ford   Focus          Overhead Camshaft   \n",
       "211              Suburban Ford  Nissan  Xterra  DoubleÂ Overhead Camshaft   \n",
       "\n",
       "      transmission  color  price  dealer_no  body style    phone dealer region  \n",
       "14101       Manual    Red  17000  78758-7841    Hardtop  7877403        Austin  \n",
       "211           Auto  Black   9250  53546-9427  Passenger  6171876    Janesville  "
      ]
     },
     "execution_count": 85,
     "metadata": {},
     "output_type": "execute_result"
    }
   ],
   "source": [
    "df[\"date\"]=df[\"date\"].str.replace(\"/\",\"-\")\n",
    "df.sample(2)"
   ]
  },
  {
   "cell_type": "code",
   "execution_count": 86,
   "id": "cc7e473a-0936-4c3b-8964-692ea6160588",
   "metadata": {},
   "outputs": [
    {
     "data": {
      "text/html": [
       "<div>\n",
       "<style scoped>\n",
       "    .dataframe tbody tr th:only-of-type {\n",
       "        vertical-align: middle;\n",
       "    }\n",
       "\n",
       "    .dataframe tbody tr th {\n",
       "        vertical-align: top;\n",
       "    }\n",
       "\n",
       "    .dataframe thead th {\n",
       "        text-align: right;\n",
       "    }\n",
       "</style>\n",
       "<table border=\"1\" class=\"dataframe\">\n",
       "  <thead>\n",
       "    <tr style=\"text-align: right;\">\n",
       "      <th></th>\n",
       "      <th>car name</th>\n",
       "      <th>date</th>\n",
       "      <th>customer name</th>\n",
       "      <th>gender</th>\n",
       "      <th>annual income</th>\n",
       "      <th>dealer name</th>\n",
       "      <th>company</th>\n",
       "      <th>model</th>\n",
       "      <th>engine</th>\n",
       "      <th>transmission</th>\n",
       "      <th>color</th>\n",
       "      <th>price</th>\n",
       "      <th>dealer_no</th>\n",
       "      <th>body style</th>\n",
       "      <th>phone</th>\n",
       "      <th>dealer region</th>\n",
       "    </tr>\n",
       "  </thead>\n",
       "  <tbody>\n",
       "    <tr>\n",
       "      <th>1437</th>\n",
       "      <td>C_CND_001438</td>\n",
       "      <td>4-5-2022</td>\n",
       "      <td>Shawn</td>\n",
       "      <td>Male</td>\n",
       "      <td>1425000</td>\n",
       "      <td>Rabun Used Car Sales</td>\n",
       "      <td>Infiniti</td>\n",
       "      <td>I30</td>\n",
       "      <td>Overhead Camshaft</td>\n",
       "      <td>Manual</td>\n",
       "      <td>Red</td>\n",
       "      <td>22500</td>\n",
       "      <td>85257-3102</td>\n",
       "      <td>Hardtop</td>\n",
       "      <td>6311764</td>\n",
       "      <td>Austin</td>\n",
       "    </tr>\n",
       "    <tr>\n",
       "      <th>21564</th>\n",
       "      <td>C_CND_021565</td>\n",
       "      <td>11-24-2023</td>\n",
       "      <td>Timothee</td>\n",
       "      <td>Male</td>\n",
       "      <td>1500000</td>\n",
       "      <td>Scrivener Performance Engineering</td>\n",
       "      <td>Pontiac</td>\n",
       "      <td>Grand Prix</td>\n",
       "      <td>DoubleÂ Overhead Camshaft</td>\n",
       "      <td>Auto</td>\n",
       "      <td>Pale White</td>\n",
       "      <td>42001</td>\n",
       "      <td>38701-8047</td>\n",
       "      <td>Passenger</td>\n",
       "      <td>6744487</td>\n",
       "      <td>Greenville</td>\n",
       "    </tr>\n",
       "    <tr>\n",
       "      <th>3239</th>\n",
       "      <td>C_CND_003240</td>\n",
       "      <td>6-15-2022</td>\n",
       "      <td>Egypt</td>\n",
       "      <td>Male</td>\n",
       "      <td>355000</td>\n",
       "      <td>Star Enterprises Inc</td>\n",
       "      <td>Chevrolet</td>\n",
       "      <td>Corvette</td>\n",
       "      <td>DoubleÂ Overhead Camshaft</td>\n",
       "      <td>Auto</td>\n",
       "      <td>Pale White</td>\n",
       "      <td>46000</td>\n",
       "      <td>99301-3882</td>\n",
       "      <td>SUV</td>\n",
       "      <td>6628547</td>\n",
       "      <td>Greenville</td>\n",
       "    </tr>\n",
       "  </tbody>\n",
       "</table>\n",
       "</div>"
      ],
      "text/plain": [
       "           car name        date customer name gender  annual income  \\\n",
       "1437   C_CND_001438    4-5-2022         Shawn   Male        1425000   \n",
       "21564  C_CND_021565  11-24-2023      Timothee   Male        1500000   \n",
       "3239   C_CND_003240   6-15-2022         Egypt   Male         355000   \n",
       "\n",
       "                             dealer name    company       model  \\\n",
       "1437                Rabun Used Car Sales   Infiniti         I30   \n",
       "21564  Scrivener Performance Engineering    Pontiac  Grand Prix   \n",
       "3239                Star Enterprises Inc  Chevrolet    Corvette   \n",
       "\n",
       "                          engine transmission       color  price  dealer_no   \\\n",
       "1437           Overhead Camshaft       Manual         Red  22500  85257-3102   \n",
       "21564  DoubleÂ Overhead Camshaft         Auto  Pale White  42001  38701-8047   \n",
       "3239   DoubleÂ Overhead Camshaft         Auto  Pale White  46000  99301-3882   \n",
       "\n",
       "      body style    phone dealer region  \n",
       "1437     Hardtop  6311764        Austin  \n",
       "21564  Passenger  6744487    Greenville  \n",
       "3239         SUV  6628547    Greenville  "
      ]
     },
     "execution_count": 86,
     "metadata": {},
     "output_type": "execute_result"
    }
   ],
   "source": [
    "df.dropna(inplace=True)\n",
    "df.sample(3)"
   ]
  },
  {
   "cell_type": "code",
   "execution_count": 87,
   "id": "ddff06eb-3fae-469a-9076-deb90eba0fa8",
   "metadata": {},
   "outputs": [
    {
     "data": {
      "text/plain": [
       "car name         0\n",
       "date             0\n",
       "customer name    0\n",
       "gender           0\n",
       "annual income    0\n",
       "dealer name      0\n",
       "company          0\n",
       "model            0\n",
       "engine           0\n",
       "transmission     0\n",
       "color            0\n",
       "price            0\n",
       "dealer_no        0\n",
       "body style       0\n",
       "phone            0\n",
       "dealer region    0\n",
       "dtype: int64"
      ]
     },
     "execution_count": 87,
     "metadata": {},
     "output_type": "execute_result"
    }
   ],
   "source": [
    "df.isnull().sum()"
   ]
  },
  {
   "cell_type": "code",
   "execution_count": 88,
   "id": "3d7fcdce-3636-49af-b5c7-978d5f2af533",
   "metadata": {},
   "outputs": [
    {
     "data": {
      "text/plain": [
       "array(['Ford', 'Dodge', 'Cadillac', 'Toyota', 'Acura', 'Mitsubishi',\n",
       "       'Chevrolet', 'Nissan', 'Mercury', 'BMW', 'Chrysler', 'Subaru',\n",
       "       'Hyundai', 'Honda', 'Infiniti', 'Audi', 'Porsche', 'Volkswagen',\n",
       "       'Buick', 'Saturn', 'Mercedes-B', 'Jaguar', 'Volvo', 'Pontiac',\n",
       "       'Lincoln', 'Oldsmobile', 'Lexus', 'Plymouth', 'Saab', 'Jeep'],\n",
       "      dtype=object)"
      ]
     },
     "execution_count": 88,
     "metadata": {},
     "output_type": "execute_result"
    }
   ],
   "source": [
    "df[\"company\"].unique()"
   ]
  },
  {
   "cell_type": "code",
   "execution_count": 89,
   "id": "48f721f2-e144-402c-afb5-4da93c6990f3",
   "metadata": {},
   "outputs": [
    {
     "data": {
      "text/plain": [
       "30"
      ]
     },
     "execution_count": 89,
     "metadata": {},
     "output_type": "execute_result"
    }
   ],
   "source": [
    "df[\"company\"].nunique()"
   ]
  },
  {
   "cell_type": "code",
   "execution_count": 90,
   "id": "5c8b9e8b-58b2-49cf-8eb8-36c0e49ed075",
   "metadata": {},
   "outputs": [
    {
     "data": {
      "text/plain": [
       "2"
      ]
     },
     "execution_count": 90,
     "metadata": {},
     "output_type": "execute_result"
    }
   ],
   "source": [
    "df[\"gender\"].nunique()"
   ]
  },
  {
   "cell_type": "code",
   "execution_count": 91,
   "id": "bf8c08f0-9b97-4755-8144-9fe9134e94df",
   "metadata": {},
   "outputs": [
    {
     "data": {
      "text/plain": [
       "154"
      ]
     },
     "execution_count": 91,
     "metadata": {},
     "output_type": "execute_result"
    }
   ],
   "source": [
    "df[\"model\"].nunique()"
   ]
  },
  {
   "cell_type": "code",
   "execution_count": 92,
   "id": "2070dd3a-3667-44b0-8e24-44d47e0f475c",
   "metadata": {},
   "outputs": [
    {
     "data": {
      "text/plain": [
       "array(['Auto', 'Manual'], dtype=object)"
      ]
     },
     "execution_count": 92,
     "metadata": {},
     "output_type": "execute_result"
    }
   ],
   "source": [
    "df[\"transmission\"].unique()"
   ]
  },
  {
   "cell_type": "code",
   "execution_count": 93,
   "id": "c67bfb69-bf2d-4bff-94a9-ca63b1fb9dce",
   "metadata": {},
   "outputs": [
    {
     "data": {
      "text/plain": [
       "5"
      ]
     },
     "execution_count": 93,
     "metadata": {},
     "output_type": "execute_result"
    }
   ],
   "source": [
    "df[\"body style\"].nunique()"
   ]
  },
  {
   "cell_type": "code",
   "execution_count": 94,
   "id": "b9f4eeee-c64a-479a-896a-8b8a768722fc",
   "metadata": {},
   "outputs": [
    {
     "data": {
      "text/plain": [
       "array(['SUV', 'Passenger', 'Hatchback', 'Hardtop', 'Sedan'], dtype=object)"
      ]
     },
     "execution_count": 94,
     "metadata": {},
     "output_type": "execute_result"
    }
   ],
   "source": [
    "df[\"body style\"].unique()"
   ]
  },
  {
   "cell_type": "code",
   "execution_count": 95,
   "id": "50c182ea-2cee-4756-bdb3-55fa1f2729f2",
   "metadata": {},
   "outputs": [
    {
     "data": {
      "text/plain": [
       "car name                 object\n",
       "date             datetime64[ns]\n",
       "customer name            object\n",
       "gender                   object\n",
       "annual income             int64\n",
       "dealer name              object\n",
       "company                  object\n",
       "model                    object\n",
       "engine                   object\n",
       "transmission             object\n",
       "color                    object\n",
       "price                     int64\n",
       "dealer_no                object\n",
       "body style               object\n",
       "phone                     int64\n",
       "dealer region            object\n",
       "dtype: object"
      ]
     },
     "execution_count": 95,
     "metadata": {},
     "output_type": "execute_result"
    }
   ],
   "source": [
    "df[\"date\"] = pd.to_datetime(df[\"date\"])\n",
    "df.dtypes"
   ]
  },
  {
   "cell_type": "code",
   "execution_count": 96,
   "id": "d8c4c7f6-0267-44c3-ba86-03325a355956",
   "metadata": {},
   "outputs": [
    {
     "data": {
      "text/html": [
       "<div>\n",
       "<style scoped>\n",
       "    .dataframe tbody tr th:only-of-type {\n",
       "        vertical-align: middle;\n",
       "    }\n",
       "\n",
       "    .dataframe tbody tr th {\n",
       "        vertical-align: top;\n",
       "    }\n",
       "\n",
       "    .dataframe thead th {\n",
       "        text-align: right;\n",
       "    }\n",
       "</style>\n",
       "<table border=\"1\" class=\"dataframe\">\n",
       "  <thead>\n",
       "    <tr style=\"text-align: right;\">\n",
       "      <th></th>\n",
       "      <th>car name</th>\n",
       "      <th>date</th>\n",
       "      <th>customer name</th>\n",
       "      <th>gender</th>\n",
       "      <th>annual income</th>\n",
       "      <th>dealer name</th>\n",
       "      <th>company</th>\n",
       "      <th>model</th>\n",
       "      <th>engine</th>\n",
       "      <th>transmission</th>\n",
       "      <th>color</th>\n",
       "      <th>price</th>\n",
       "      <th>dealer_no</th>\n",
       "      <th>body style</th>\n",
       "      <th>phone</th>\n",
       "      <th>dealer region</th>\n",
       "    </tr>\n",
       "  </thead>\n",
       "  <tbody>\n",
       "    <tr>\n",
       "      <th>9122</th>\n",
       "      <td>C_CND_009123</td>\n",
       "      <td>2022-12-03</td>\n",
       "      <td>Amaya</td>\n",
       "      <td>Male</td>\n",
       "      <td>611000</td>\n",
       "      <td>Scrivener Performance Engineering</td>\n",
       "      <td>Dodge</td>\n",
       "      <td>Caravan</td>\n",
       "      <td>DoubleÂ Overhead Camshaft</td>\n",
       "      <td>Auto</td>\n",
       "      <td>Red</td>\n",
       "      <td>19000</td>\n",
       "      <td>38701-8047</td>\n",
       "      <td>Hardtop</td>\n",
       "      <td>7704346</td>\n",
       "      <td>Greenville</td>\n",
       "    </tr>\n",
       "    <tr>\n",
       "      <th>15461</th>\n",
       "      <td>C_CND_015462</td>\n",
       "      <td>2023-07-03</td>\n",
       "      <td>Naomi</td>\n",
       "      <td>Male</td>\n",
       "      <td>1225000</td>\n",
       "      <td>Iceberg Rentals</td>\n",
       "      <td>Audi</td>\n",
       "      <td>A6</td>\n",
       "      <td>Overhead Camshaft</td>\n",
       "      <td>Manual</td>\n",
       "      <td>Black</td>\n",
       "      <td>15500</td>\n",
       "      <td>53546-9427</td>\n",
       "      <td>SUV</td>\n",
       "      <td>6032205</td>\n",
       "      <td>Janesville</td>\n",
       "    </tr>\n",
       "    <tr>\n",
       "      <th>6817</th>\n",
       "      <td>C_CND_006818</td>\n",
       "      <td>2022-10-09</td>\n",
       "      <td>Meline</td>\n",
       "      <td>Male</td>\n",
       "      <td>810000</td>\n",
       "      <td>Race Car Help</td>\n",
       "      <td>Chevrolet</td>\n",
       "      <td>Malibu</td>\n",
       "      <td>Overhead Camshaft</td>\n",
       "      <td>Manual</td>\n",
       "      <td>Pale White</td>\n",
       "      <td>14000</td>\n",
       "      <td>78758-7841</td>\n",
       "      <td>Hardtop</td>\n",
       "      <td>7593718</td>\n",
       "      <td>Austin</td>\n",
       "    </tr>\n",
       "  </tbody>\n",
       "</table>\n",
       "</div>"
      ],
      "text/plain": [
       "           car name       date customer name gender  annual income  \\\n",
       "9122   C_CND_009123 2022-12-03         Amaya   Male         611000   \n",
       "15461  C_CND_015462 2023-07-03         Naomi   Male        1225000   \n",
       "6817   C_CND_006818 2022-10-09        Meline   Male         810000   \n",
       "\n",
       "                             dealer name    company    model  \\\n",
       "9122   Scrivener Performance Engineering      Dodge  Caravan   \n",
       "15461                    Iceberg Rentals       Audi       A6   \n",
       "6817                       Race Car Help  Chevrolet   Malibu   \n",
       "\n",
       "                          engine transmission       color  price  dealer_no   \\\n",
       "9122   DoubleÂ Overhead Camshaft         Auto         Red  19000  38701-8047   \n",
       "15461          Overhead Camshaft       Manual       Black  15500  53546-9427   \n",
       "6817           Overhead Camshaft       Manual  Pale White  14000  78758-7841   \n",
       "\n",
       "      body style    phone dealer region  \n",
       "9122     Hardtop  7704346    Greenville  \n",
       "15461        SUV  6032205    Janesville  \n",
       "6817     Hardtop  7593718        Austin  "
      ]
     },
     "execution_count": 96,
     "metadata": {},
     "output_type": "execute_result"
    }
   ],
   "source": [
    "df.sample(3)"
   ]
  },
  {
   "cell_type": "code",
   "execution_count": 97,
   "id": "b9fed060-4893-4aba-9b8c-4b0e63f205a6",
   "metadata": {},
   "outputs": [
    {
     "data": {
      "text/plain": [
       "3"
      ]
     },
     "execution_count": 97,
     "metadata": {},
     "output_type": "execute_result"
    }
   ],
   "source": [
    "df[\"color\"].nunique()"
   ]
  },
  {
   "cell_type": "code",
   "execution_count": 98,
   "id": "a85990ed-f093-48fb-8da2-1cfc83d47a35",
   "metadata": {},
   "outputs": [
    {
     "data": {
      "text/plain": [
       "array(['Black', 'Red', 'Pale White'], dtype=object)"
      ]
     },
     "execution_count": 98,
     "metadata": {},
     "output_type": "execute_result"
    }
   ],
   "source": [
    "df[\"color\"].unique()"
   ]
  },
  {
   "cell_type": "code",
   "execution_count": 99,
   "id": "77b1d274-a362-4e6b-b00c-03a60161da76",
   "metadata": {},
   "outputs": [
    {
     "data": {
      "image/png": "[encoded data removed]",
      "text/plain": [
       "<Figure size 700x400 with 1 Axes>"
      ]
     },
     "metadata": {},
     "output_type": "display_data"
    }
   ],
   "source": [
    "plt.figure(figsize=(7, 4))\n",
    "sns.countplot(y='body style', data=df)\n",
    "plt.title('Count of Cars by Body Style')\n",
    "plt.xlabel('Count')\n",
    "plt.ylabel('body style')\n",
    "plt.show()"
   ]
  },
  {
   "cell_type": "code",
   "execution_count": 105,
   "id": "c53bf8a7-977d-4541-aeb5-fa3c0cd32d3a",
   "metadata": {},
   "outputs": [
    {
     "data": {
      "text/plain": [
       "dealer region\n",
       "Aurora        28329.300735\n",
       "Austin        28341.603628\n",
       "Greenville    28180.819054\n",
       "Janesville    27833.350955\n",
       "Middletown    27856.338875\n",
       "Pasco         28119.039923\n",
       "Scottsdale    27954.958928\n",
       "Name: price, dtype: float64"
      ]
     },
     "execution_count": 105,
     "metadata": {},
     "output_type": "execute_result"
    }
   ],
   "source": [
    "mean_prices_by_region = df.groupby(\"dealer region\")[\"price\"].mean()\n",
    "mean_prices_by_region"
   ]
  },
  {
   "cell_type": "code",
   "execution_count": 101,
   "id": "a64d6f75-bfdb-4e79-8d77-15685111c6e8",
   "metadata": {},
   "outputs": [
    {
     "data": {
      "text/plain": [
       "Index(['car name', 'date', 'customer name', 'gender', 'annual income',\n",
       "       'dealer name', 'company', 'model', 'engine', 'transmission', 'color',\n",
       "       'price', 'dealer_no ', 'body style', 'phone', 'dealer region'],\n",
       "      dtype='object')"
      ]
     },
     "execution_count": 101,
     "metadata": {},
     "output_type": "execute_result"
    }
   ],
   "source": [
    "df.columns"
   ]
  },
  {
   "cell_type": "code",
   "execution_count": 102,
   "id": "6ad5d3ed-806d-4245-a0fb-c793420dcce4",
   "metadata": {},
   "outputs": [
    {
     "data": {
      "text/html": [
       "<div>\n",
       "<style scoped>\n",
       "    .dataframe tbody tr th:only-of-type {\n",
       "        vertical-align: middle;\n",
       "    }\n",
       "\n",
       "    .dataframe tbody tr th {\n",
       "        vertical-align: top;\n",
       "    }\n",
       "\n",
       "    .dataframe thead th {\n",
       "        text-align: right;\n",
       "    }\n",
       "</style>\n",
       "<table border=\"1\" class=\"dataframe\">\n",
       "  <thead>\n",
       "    <tr style=\"text-align: right;\">\n",
       "      <th></th>\n",
       "      <th>car name</th>\n",
       "      <th>date</th>\n",
       "      <th>customer name</th>\n",
       "      <th>gender</th>\n",
       "      <th>annual income</th>\n",
       "      <th>dealer name</th>\n",
       "      <th>company</th>\n",
       "      <th>model</th>\n",
       "      <th>engine</th>\n",
       "      <th>transmission</th>\n",
       "      <th>color</th>\n",
       "      <th>price</th>\n",
       "      <th>dealer_no</th>\n",
       "      <th>body style</th>\n",
       "      <th>phone</th>\n",
       "      <th>dealer region</th>\n",
       "    </tr>\n",
       "  </thead>\n",
       "  <tbody>\n",
       "    <tr>\n",
       "      <th>23424</th>\n",
       "      <td>C_CND_023425</td>\n",
       "      <td>2023-12-23</td>\n",
       "      <td>Auxence</td>\n",
       "      <td>Male</td>\n",
       "      <td>1675000</td>\n",
       "      <td>Rabun Used Car Sales</td>\n",
       "      <td>Honda</td>\n",
       "      <td>Odyssey</td>\n",
       "      <td>Overhead Camshaft</td>\n",
       "      <td>Manual</td>\n",
       "      <td>Pale White</td>\n",
       "      <td>27500</td>\n",
       "      <td>85257-3102</td>\n",
       "      <td>Passenger</td>\n",
       "      <td>7010861</td>\n",
       "      <td>Middletown</td>\n",
       "    </tr>\n",
       "    <tr>\n",
       "      <th>19802</th>\n",
       "      <td>C_CND_019803</td>\n",
       "      <td>2023-10-21</td>\n",
       "      <td>Paul</td>\n",
       "      <td>Female</td>\n",
       "      <td>880000</td>\n",
       "      <td>Progressive Shippers Cooperative Association No</td>\n",
       "      <td>Volkswagen</td>\n",
       "      <td>Passat</td>\n",
       "      <td>Overhead Camshaft</td>\n",
       "      <td>Manual</td>\n",
       "      <td>Pale White</td>\n",
       "      <td>27000</td>\n",
       "      <td>53546-9427</td>\n",
       "      <td>Hatchback</td>\n",
       "      <td>6264050</td>\n",
       "      <td>Janesville</td>\n",
       "    </tr>\n",
       "    <tr>\n",
       "      <th>23448</th>\n",
       "      <td>C_CND_023449</td>\n",
       "      <td>2023-12-24</td>\n",
       "      <td>Florence</td>\n",
       "      <td>Male</td>\n",
       "      <td>801000</td>\n",
       "      <td>Enterprise Rent A Car</td>\n",
       "      <td>Pontiac</td>\n",
       "      <td>Firebird</td>\n",
       "      <td>Overhead Camshaft</td>\n",
       "      <td>Manual</td>\n",
       "      <td>Black</td>\n",
       "      <td>43001</td>\n",
       "      <td>60504-7114</td>\n",
       "      <td>Hardtop</td>\n",
       "      <td>8831899</td>\n",
       "      <td>Aurora</td>\n",
       "    </tr>\n",
       "  </tbody>\n",
       "</table>\n",
       "</div>"
      ],
      "text/plain": [
       "           car name       date customer name  gender  annual income  \\\n",
       "23424  C_CND_023425 2023-12-23       Auxence    Male        1675000   \n",
       "19802  C_CND_019803 2023-10-21          Paul  Female         880000   \n",
       "23448  C_CND_023449 2023-12-24      Florence    Male         801000   \n",
       "\n",
       "                                           dealer name     company     model  \\\n",
       "23424                             Rabun Used Car Sales       Honda   Odyssey   \n",
       "19802  Progressive Shippers Cooperative Association No  Volkswagen    Passat   \n",
       "23448                            Enterprise Rent A Car     Pontiac  Firebird   \n",
       "\n",
       "                  engine transmission       color  price  dealer_no   \\\n",
       "23424  Overhead Camshaft       Manual  Pale White  27500  85257-3102   \n",
       "19802  Overhead Camshaft       Manual  Pale White  27000  53546-9427   \n",
       "23448  Overhead Camshaft       Manual       Black  43001  60504-7114   \n",
       "\n",
       "      body style    phone dealer region  \n",
       "23424  Passenger  7010861    Middletown  \n",
       "19802  Hatchback  6264050    Janesville  \n",
       "23448    Hardtop  8831899        Aurora  "
      ]
     },
     "execution_count": 102,
     "metadata": {},
     "output_type": "execute_result"
    }
   ],
   "source": [
    "df.sample(3)"
   ]
  },
  {
   "cell_type": "code",
   "execution_count": 103,
   "id": "aaab8ce4-487a-408e-ab36-38ea3026d516",
   "metadata": {},
   "outputs": [
    {
     "name": "stdout",
     "output_type": "stream",
     "text": [
      "<class 'pandas.core.frame.DataFrame'>\n",
      "Index: 23905 entries, 0 to 23905\n",
      "Data columns (total 16 columns):\n",
      " #   Column         Non-Null Count  Dtype         \n",
      "---  ------         --------------  -----         \n",
      " 0   car name       23905 non-null  object        \n",
      " 1   date           23905 non-null  datetime64[ns]\n",
      " 2   customer name  23905 non-null  object        \n",
      " 3   gender         23905 non-null  object        \n",
      " 4   annual income  23905 non-null  int64         \n",
      " 5   dealer name    23905 non-null  object        \n",
      " 6   company        23905 non-null  object        \n",
      " 7   model          23905 non-null  object        \n",
      " 8   engine         23905 non-null  object        \n",
      " 9   transmission   23905 non-null  object        \n",
      " 10  color          23905 non-null  object        \n",
      " 11  price          23905 non-null  int64         \n",
      " 12  dealer_no      23905 non-null  object        \n",
      " 13  body style     23905 non-null  object        \n",
      " 14  phone          23905 non-null  int64         \n",
      " 15  dealer region  23905 non-null  object        \n",
      "dtypes: datetime64[ns](1), int64(3), object(12)\n",
      "memory usage: 3.1+ MB\n"
     ]
    }
   ],
   "source": [
    "df.info()"
   ]
  },
  {
   "cell_type": "code",
   "execution_count": 104,
   "id": "69c28efa-513c-492d-aaaa-90b937f38707",
   "metadata": {},
   "outputs": [
    {
     "data": {
      "text/plain": [
       "car name                 object\n",
       "date             datetime64[ns]\n",
       "customer name            object\n",
       "gender                   object\n",
       "annual income             int64\n",
       "dealer name              object\n",
       "company                  object\n",
       "model                    object\n",
       "engine                   object\n",
       "transmission             object\n",
       "color                    object\n",
       "price                     int64\n",
       "dealer_no                object\n",
       "body style               object\n",
       "phone                     int64\n",
       "dealer region            object\n",
       "dtype: object"
      ]
     },
     "execution_count": 104,
     "metadata": {},
     "output_type": "execute_result"
    }
   ],
   "source": [
    "df.dtypes"
   ]
  },
  {
   "cell_type": "code",
   "execution_count": 114,
   "id": "9ba803f9-36c8-4c34-b294-2aafae737df2",
   "metadata": {},
   "outputs": [
    {
     "data": {
      "text/html": [
       "<div>\n",
       "<style scoped>\n",
       "    .dataframe tbody tr th:only-of-type {\n",
       "        vertical-align: middle;\n",
       "    }\n",
       "\n",
       "    .dataframe tbody tr th {\n",
       "        vertical-align: top;\n",
       "    }\n",
       "\n",
       "    .dataframe thead th {\n",
       "        text-align: right;\n",
       "    }\n",
       "</style>\n",
       "<table border=\"1\" class=\"dataframe\">\n",
       "  <thead>\n",
       "    <tr style=\"text-align: right;\">\n",
       "      <th></th>\n",
       "      <th>annual income</th>\n",
       "      <th>price</th>\n",
       "    </tr>\n",
       "  </thead>\n",
       "  <tbody>\n",
       "    <tr>\n",
       "      <th>annual income</th>\n",
       "      <td>1.000000</td>\n",
       "      <td>0.012075</td>\n",
       "    </tr>\n",
       "    <tr>\n",
       "      <th>price</th>\n",
       "      <td>0.012075</td>\n",
       "      <td>1.000000</td>\n",
       "    </tr>\n",
       "  </tbody>\n",
       "</table>\n",
       "</div>"
      ],
      "text/plain": [
       "               annual income     price\n",
       "annual income       1.000000  0.012075\n",
       "price               0.012075  1.000000"
      ]
     },
     "execution_count": 114,
     "metadata": {},
     "output_type": "execute_result"
    }
   ],
   "source": [
    "correlation = df[[\"annual income\", \"price\"]].corr()\n",
    "correlation"
   ]
  },
  {
   "cell_type": "code",
   "execution_count": 121,
   "id": "a5823df0-cf0c-41b2-a341-6744263ce9a3",
   "metadata": {},
   "outputs": [
    {
     "data": {
      "image/png": "[encoded data removed]",
      "text/plain": [
       "<Figure size 700x400 with 1 Axes>"
      ]
     },
     "metadata": {},
     "output_type": "display_data"
    }
   ],
   "source": [
    "plt.figure(figsize=(7, 4))\n",
    "sns.countplot(x='body style', hue='transmission', data=df)\n",
    "plt.title('Araba Modeline Göre Vites Türü Dağılımı')\n",
    "plt.xlabel('Araba Modeli')\n",
    "plt.ylabel('Satış')\n",
    "plt.xticks(rotation=45)\n",
    "plt.legend(title='Vites Türü')\n",
    "plt.show()"
   ]
  },
  {
   "cell_type": "code",
   "execution_count": null,
   "id": "8857b014-5da9-47de-8d6f-244573e95b71",
   "metadata": {},
   "outputs": [],
   "source": []
  }
 ],
 "metadata": {
  "kernelspec": {
   "display_name": "Python 3 (ipykernel)",
   "language": "python",
   "name": "python3"
  },
  "language_info": {
   "codemirror_mode": {
    "name": "ipython",
    "version": 3
   },
   "file_extension": ".py",
   "mimetype": "text/x-python",
   "name": "python",
   "nbconvert_exporter": "python",
   "pygments_lexer": "ipython3",
   "version": "3.11.7"
  }
 },
 "nbformat": 4,
 "nbformat_minor": 5
}
