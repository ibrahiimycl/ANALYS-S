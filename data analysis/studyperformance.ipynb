{
 "cells": [
  {
   "cell_type": "code",
   "execution_count": 110,
   "id": "d1e9bfa9-a788-495f-8074-3d0bc5184406",
   "metadata": {},
   "outputs": [],
   "source": [
    "import warnings\n",
    "warnings.filterwarnings('ignore')"
   ]
  },
  {
   "cell_type": "code",
   "execution_count": 111,
   "id": "5ba45534-4372-4ad7-8776-c9ab7089f832",
   "metadata": {},
   "outputs": [],
   "source": [
    "import numpy as np\n",
    "import pandas as pd"
   ]
  },
  {
   "cell_type": "code",
   "execution_count": 112,
   "id": "1f28034b-b718-48d1-b82a-714505883ed7",
   "metadata": {},
   "outputs": [],
   "source": [
    "df = pd.read_csv(\"study_performance.csv\")"
   ]
  },
  {
   "cell_type": "code",
   "execution_count": 113,
   "id": "b776024a-8e1c-4910-95f8-3e5e5676e356",
   "metadata": {},
   "outputs": [
    {
     "data": {
      "text/html": [
       "<div>\n",
       "<style scoped>\n",
       "    .dataframe tbody tr th:only-of-type {\n",
       "        vertical-align: middle;\n",
       "    }\n",
       "\n",
       "    .dataframe tbody tr th {\n",
       "        vertical-align: top;\n",
       "    }\n",
       "\n",
       "    .dataframe thead th {\n",
       "        text-align: right;\n",
       "    }\n",
       "</style>\n",
       "<table border=\"1\" class=\"dataframe\">\n",
       "  <thead>\n",
       "    <tr style=\"text-align: right;\">\n",
       "      <th></th>\n",
       "      <th>gender</th>\n",
       "      <th>race_ethnicity</th>\n",
       "      <th>parental_level_of_education</th>\n",
       "      <th>lunch</th>\n",
       "      <th>test_preparation_course</th>\n",
       "      <th>math_score</th>\n",
       "      <th>reading_score</th>\n",
       "      <th>writing_score</th>\n",
       "    </tr>\n",
       "  </thead>\n",
       "  <tbody>\n",
       "    <tr>\n",
       "      <th>0</th>\n",
       "      <td>female</td>\n",
       "      <td>group B</td>\n",
       "      <td>bachelor's degree</td>\n",
       "      <td>standard</td>\n",
       "      <td>none</td>\n",
       "      <td>72</td>\n",
       "      <td>72</td>\n",
       "      <td>74</td>\n",
       "    </tr>\n",
       "    <tr>\n",
       "      <th>1</th>\n",
       "      <td>female</td>\n",
       "      <td>group C</td>\n",
       "      <td>some college</td>\n",
       "      <td>standard</td>\n",
       "      <td>completed</td>\n",
       "      <td>69</td>\n",
       "      <td>90</td>\n",
       "      <td>88</td>\n",
       "    </tr>\n",
       "  </tbody>\n",
       "</table>\n",
       "</div>"
      ],
      "text/plain": [
       "   gender race_ethnicity parental_level_of_education     lunch  \\\n",
       "0  female        group B           bachelor's degree  standard   \n",
       "1  female        group C                some college  standard   \n",
       "\n",
       "  test_preparation_course  math_score  reading_score  writing_score  \n",
       "0                    none          72             72             74  \n",
       "1               completed          69             90             88  "
      ]
     },
     "execution_count": 113,
     "metadata": {},
     "output_type": "execute_result"
    }
   ],
   "source": [
    "df.head(2)"
   ]
  },
  {
   "cell_type": "code",
   "execution_count": 114,
   "id": "2341f18d-f188-4dc0-ba37-8c818eb44bf2",
   "metadata": {},
   "outputs": [
    {
     "data": {
      "text/html": [
       "<div>\n",
       "<style scoped>\n",
       "    .dataframe tbody tr th:only-of-type {\n",
       "        vertical-align: middle;\n",
       "    }\n",
       "\n",
       "    .dataframe tbody tr th {\n",
       "        vertical-align: top;\n",
       "    }\n",
       "\n",
       "    .dataframe thead th {\n",
       "        text-align: right;\n",
       "    }\n",
       "</style>\n",
       "<table border=\"1\" class=\"dataframe\">\n",
       "  <thead>\n",
       "    <tr style=\"text-align: right;\">\n",
       "      <th></th>\n",
       "      <th>gender</th>\n",
       "      <th>race_ethnicity</th>\n",
       "      <th>parental_level_of_education</th>\n",
       "      <th>lunch</th>\n",
       "      <th>test_preparation_course</th>\n",
       "      <th>math_score</th>\n",
       "      <th>reading_score</th>\n",
       "      <th>writing_score</th>\n",
       "    </tr>\n",
       "  </thead>\n",
       "  <tbody>\n",
       "    <tr>\n",
       "      <th>998</th>\n",
       "      <td>female</td>\n",
       "      <td>group D</td>\n",
       "      <td>some college</td>\n",
       "      <td>standard</td>\n",
       "      <td>completed</td>\n",
       "      <td>68</td>\n",
       "      <td>78</td>\n",
       "      <td>77</td>\n",
       "    </tr>\n",
       "    <tr>\n",
       "      <th>999</th>\n",
       "      <td>female</td>\n",
       "      <td>group D</td>\n",
       "      <td>some college</td>\n",
       "      <td>free/reduced</td>\n",
       "      <td>none</td>\n",
       "      <td>77</td>\n",
       "      <td>86</td>\n",
       "      <td>86</td>\n",
       "    </tr>\n",
       "  </tbody>\n",
       "</table>\n",
       "</div>"
      ],
      "text/plain": [
       "     gender race_ethnicity parental_level_of_education         lunch  \\\n",
       "998  female        group D                some college      standard   \n",
       "999  female        group D                some college  free/reduced   \n",
       "\n",
       "    test_preparation_course  math_score  reading_score  writing_score  \n",
       "998               completed          68             78             77  \n",
       "999                    none          77             86             86  "
      ]
     },
     "execution_count": 114,
     "metadata": {},
     "output_type": "execute_result"
    }
   ],
   "source": [
    "df.tail(2)"
   ]
  },
  {
   "cell_type": "code",
   "execution_count": 115,
   "id": "b96e31c9-4f4b-4cd0-b643-596683b0a9eb",
   "metadata": {},
   "outputs": [
    {
     "data": {
      "text/html": [
       "<div>\n",
       "<style scoped>\n",
       "    .dataframe tbody tr th:only-of-type {\n",
       "        vertical-align: middle;\n",
       "    }\n",
       "\n",
       "    .dataframe tbody tr th {\n",
       "        vertical-align: top;\n",
       "    }\n",
       "\n",
       "    .dataframe thead th {\n",
       "        text-align: right;\n",
       "    }\n",
       "</style>\n",
       "<table border=\"1\" class=\"dataframe\">\n",
       "  <thead>\n",
       "    <tr style=\"text-align: right;\">\n",
       "      <th></th>\n",
       "      <th>gender</th>\n",
       "      <th>race_ethnicity</th>\n",
       "      <th>parental_level_of_education</th>\n",
       "      <th>lunch</th>\n",
       "      <th>test_preparation_course</th>\n",
       "      <th>math_score</th>\n",
       "      <th>reading_score</th>\n",
       "      <th>writing_score</th>\n",
       "    </tr>\n",
       "  </thead>\n",
       "  <tbody>\n",
       "    <tr>\n",
       "      <th>166</th>\n",
       "      <td>male</td>\n",
       "      <td>group C</td>\n",
       "      <td>high school</td>\n",
       "      <td>free/reduced</td>\n",
       "      <td>completed</td>\n",
       "      <td>53</td>\n",
       "      <td>51</td>\n",
       "      <td>51</td>\n",
       "    </tr>\n",
       "    <tr>\n",
       "      <th>541</th>\n",
       "      <td>male</td>\n",
       "      <td>group D</td>\n",
       "      <td>associate's degree</td>\n",
       "      <td>free/reduced</td>\n",
       "      <td>completed</td>\n",
       "      <td>79</td>\n",
       "      <td>82</td>\n",
       "      <td>80</td>\n",
       "    </tr>\n",
       "  </tbody>\n",
       "</table>\n",
       "</div>"
      ],
      "text/plain": [
       "    gender race_ethnicity parental_level_of_education         lunch  \\\n",
       "166   male        group C                 high school  free/reduced   \n",
       "541   male        group D          associate's degree  free/reduced   \n",
       "\n",
       "    test_preparation_course  math_score  reading_score  writing_score  \n",
       "166               completed          53             51             51  \n",
       "541               completed          79             82             80  "
      ]
     },
     "execution_count": 115,
     "metadata": {},
     "output_type": "execute_result"
    }
   ],
   "source": [
    "df.sample(2)"
   ]
  },
  {
   "cell_type": "code",
   "execution_count": 116,
   "id": "cb6efa02-0c9d-4a17-a3fe-a13cec218b94",
   "metadata": {},
   "outputs": [
    {
     "data": {
      "text/html": [
       "<div>\n",
       "<style scoped>\n",
       "    .dataframe tbody tr th:only-of-type {\n",
       "        vertical-align: middle;\n",
       "    }\n",
       "\n",
       "    .dataframe tbody tr th {\n",
       "        vertical-align: top;\n",
       "    }\n",
       "\n",
       "    .dataframe thead th {\n",
       "        text-align: right;\n",
       "    }\n",
       "</style>\n",
       "<table border=\"1\" class=\"dataframe\">\n",
       "  <thead>\n",
       "    <tr style=\"text-align: right;\">\n",
       "      <th></th>\n",
       "      <th>gender</th>\n",
       "      <th>race_ethnicity</th>\n",
       "      <th>parental_level_of_education</th>\n",
       "      <th>lunch</th>\n",
       "      <th>math_score</th>\n",
       "      <th>reading_score</th>\n",
       "      <th>writing_score</th>\n",
       "    </tr>\n",
       "  </thead>\n",
       "  <tbody>\n",
       "    <tr>\n",
       "      <th>601</th>\n",
       "      <td>female</td>\n",
       "      <td>group C</td>\n",
       "      <td>high school</td>\n",
       "      <td>standard</td>\n",
       "      <td>29</td>\n",
       "      <td>29</td>\n",
       "      <td>30</td>\n",
       "    </tr>\n",
       "    <tr>\n",
       "      <th>650</th>\n",
       "      <td>male</td>\n",
       "      <td>group C</td>\n",
       "      <td>some high school</td>\n",
       "      <td>free/reduced</td>\n",
       "      <td>51</td>\n",
       "      <td>56</td>\n",
       "      <td>53</td>\n",
       "    </tr>\n",
       "  </tbody>\n",
       "</table>\n",
       "</div>"
      ],
      "text/plain": [
       "     gender race_ethnicity parental_level_of_education         lunch  \\\n",
       "601  female        group C                 high school      standard   \n",
       "650    male        group C            some high school  free/reduced   \n",
       "\n",
       "     math_score  reading_score  writing_score  \n",
       "601          29             29             30  \n",
       "650          51             56             53  "
      ]
     },
     "execution_count": 116,
     "metadata": {},
     "output_type": "execute_result"
    }
   ],
   "source": [
    "df.drop(columns=[\"test_preparation_course\"],inplace=True)\n",
    "df.sample(2)"
   ]
  },
  {
   "cell_type": "code",
   "execution_count": 117,
   "id": "1008ca7e-e9d3-435f-bb44-6ffacec4efb4",
   "metadata": {},
   "outputs": [
    {
     "data": {
      "text/html": [
       "<div>\n",
       "<style scoped>\n",
       "    .dataframe tbody tr th:only-of-type {\n",
       "        vertical-align: middle;\n",
       "    }\n",
       "\n",
       "    .dataframe tbody tr th {\n",
       "        vertical-align: top;\n",
       "    }\n",
       "\n",
       "    .dataframe thead th {\n",
       "        text-align: right;\n",
       "    }\n",
       "</style>\n",
       "<table border=\"1\" class=\"dataframe\">\n",
       "  <thead>\n",
       "    <tr style=\"text-align: right;\">\n",
       "      <th></th>\n",
       "      <th>cinsiyet</th>\n",
       "      <th>grup</th>\n",
       "      <th>ebeveyn eğitimi</th>\n",
       "      <th>öğle yemeği</th>\n",
       "      <th>matematik</th>\n",
       "      <th>okuma</th>\n",
       "      <th>yazma</th>\n",
       "    </tr>\n",
       "  </thead>\n",
       "  <tbody>\n",
       "    <tr>\n",
       "      <th>276</th>\n",
       "      <td>female</td>\n",
       "      <td>group C</td>\n",
       "      <td>some high school</td>\n",
       "      <td>standard</td>\n",
       "      <td>85</td>\n",
       "      <td>92</td>\n",
       "      <td>93</td>\n",
       "    </tr>\n",
       "    <tr>\n",
       "      <th>792</th>\n",
       "      <td>male</td>\n",
       "      <td>group D</td>\n",
       "      <td>high school</td>\n",
       "      <td>free/reduced</td>\n",
       "      <td>66</td>\n",
       "      <td>74</td>\n",
       "      <td>69</td>\n",
       "    </tr>\n",
       "  </tbody>\n",
       "</table>\n",
       "</div>"
      ],
      "text/plain": [
       "    cinsiyet     grup   ebeveyn eğitimi   öğle yemeği  matematik  okuma  yazma\n",
       "276   female  group C  some high school      standard         85     92     93\n",
       "792     male  group D       high school  free/reduced         66     74     69"
      ]
     },
     "execution_count": 117,
     "metadata": {},
     "output_type": "execute_result"
    }
   ],
   "source": [
    "df.rename(columns={\n",
    "    \"gender\":\"cinsiyet\",\n",
    "    \"race_ethnicity\":\"grup\",\n",
    "    \"parental_level_of_education\":\"ebeveyn eğitimi\",\n",
    "    \"lunch\":\"öğle yemeği\",\n",
    "    \"math_score\":\"matematik\",\n",
    "    \"reading_score\":\"okuma\",\n",
    "    \"writing_score\":\"yazma\"\n",
    "},inplace=True)\n",
    "df.sample(2)"
   ]
  },
  {
   "cell_type": "code",
   "execution_count": 118,
   "id": "f77e9734-f6ba-45ac-b68f-392a5a1ef436",
   "metadata": {},
   "outputs": [
    {
     "data": {
      "text/html": [
       "<div>\n",
       "<style scoped>\n",
       "    .dataframe tbody tr th:only-of-type {\n",
       "        vertical-align: middle;\n",
       "    }\n",
       "\n",
       "    .dataframe tbody tr th {\n",
       "        vertical-align: top;\n",
       "    }\n",
       "\n",
       "    .dataframe thead th {\n",
       "        text-align: right;\n",
       "    }\n",
       "</style>\n",
       "<table border=\"1\" class=\"dataframe\">\n",
       "  <thead>\n",
       "    <tr style=\"text-align: right;\">\n",
       "      <th></th>\n",
       "      <th>cinsiyet</th>\n",
       "      <th>grup</th>\n",
       "      <th>ebeveyn eğitimi</th>\n",
       "      <th>öğle yemeği</th>\n",
       "      <th>matematik</th>\n",
       "      <th>okuma</th>\n",
       "      <th>yazma</th>\n",
       "    </tr>\n",
       "  </thead>\n",
       "  <tbody>\n",
       "    <tr>\n",
       "      <th>13</th>\n",
       "      <td>male</td>\n",
       "      <td>A</td>\n",
       "      <td>some college</td>\n",
       "      <td>standard</td>\n",
       "      <td>78</td>\n",
       "      <td>72</td>\n",
       "      <td>70</td>\n",
       "    </tr>\n",
       "    <tr>\n",
       "      <th>114</th>\n",
       "      <td>female</td>\n",
       "      <td>E</td>\n",
       "      <td>bachelor's degree</td>\n",
       "      <td>standard</td>\n",
       "      <td>99</td>\n",
       "      <td>100</td>\n",
       "      <td>100</td>\n",
       "    </tr>\n",
       "  </tbody>\n",
       "</table>\n",
       "</div>"
      ],
      "text/plain": [
       "    cinsiyet grup    ebeveyn eğitimi öğle yemeği  matematik  okuma  yazma\n",
       "13      male    A       some college    standard         78     72     70\n",
       "114   female    E  bachelor's degree    standard         99    100    100"
      ]
     },
     "execution_count": 118,
     "metadata": {},
     "output_type": "execute_result"
    }
   ],
   "source": [
    "df[\"grup\"]=df[\"grup\"].str.replace(\"group\",\"\")\n",
    "df.sample(2)"
   ]
  },
  {
   "cell_type": "code",
   "execution_count": 119,
   "id": "21b53bb9-4cab-425d-a8ad-d335fa7fa483",
   "metadata": {},
   "outputs": [
    {
     "data": {
      "text/html": [
       "<div>\n",
       "<style scoped>\n",
       "    .dataframe tbody tr th:only-of-type {\n",
       "        vertical-align: middle;\n",
       "    }\n",
       "\n",
       "    .dataframe tbody tr th {\n",
       "        vertical-align: top;\n",
       "    }\n",
       "\n",
       "    .dataframe thead th {\n",
       "        text-align: right;\n",
       "    }\n",
       "</style>\n",
       "<table border=\"1\" class=\"dataframe\">\n",
       "  <thead>\n",
       "    <tr style=\"text-align: right;\">\n",
       "      <th></th>\n",
       "      <th>cinsiyet</th>\n",
       "      <th>grup</th>\n",
       "      <th>ebeveyn eğitimi</th>\n",
       "      <th>öğle yemeği</th>\n",
       "      <th>matematik</th>\n",
       "      <th>okuma</th>\n",
       "      <th>yazma</th>\n",
       "    </tr>\n",
       "  </thead>\n",
       "  <tbody>\n",
       "    <tr>\n",
       "      <th>700</th>\n",
       "      <td>feerkek</td>\n",
       "      <td>E</td>\n",
       "      <td>bachelor's degree</td>\n",
       "      <td>standard</td>\n",
       "      <td>79</td>\n",
       "      <td>81</td>\n",
       "      <td>82</td>\n",
       "    </tr>\n",
       "    <tr>\n",
       "      <th>760</th>\n",
       "      <td>feerkek</td>\n",
       "      <td>C</td>\n",
       "      <td>high school</td>\n",
       "      <td>free/reduced</td>\n",
       "      <td>53</td>\n",
       "      <td>72</td>\n",
       "      <td>64</td>\n",
       "    </tr>\n",
       "  </tbody>\n",
       "</table>\n",
       "</div>"
      ],
      "text/plain": [
       "    cinsiyet grup    ebeveyn eğitimi   öğle yemeği  matematik  okuma  yazma\n",
       "700  feerkek    E  bachelor's degree      standard         79     81     82\n",
       "760  feerkek    C        high school  free/reduced         53     72     64"
      ]
     },
     "execution_count": 119,
     "metadata": {},
     "output_type": "execute_result"
    }
   ],
   "source": [
    "df[\"cinsiyet\"]=df[\"cinsiyet\"].str.replace(\"male\",\"erkek\")\n",
    "df.sample(2)"
   ]
  },
  {
   "cell_type": "code",
   "execution_count": 120,
   "id": "8cd5238c-3603-4d1f-8489-6a9e3e82d715",
   "metadata": {},
   "outputs": [
    {
     "data": {
      "text/html": [
       "<div>\n",
       "<style scoped>\n",
       "    .dataframe tbody tr th:only-of-type {\n",
       "        vertical-align: middle;\n",
       "    }\n",
       "\n",
       "    .dataframe tbody tr th {\n",
       "        vertical-align: top;\n",
       "    }\n",
       "\n",
       "    .dataframe thead th {\n",
       "        text-align: right;\n",
       "    }\n",
       "</style>\n",
       "<table border=\"1\" class=\"dataframe\">\n",
       "  <thead>\n",
       "    <tr style=\"text-align: right;\">\n",
       "      <th></th>\n",
       "      <th>cinsiyet</th>\n",
       "      <th>grup</th>\n",
       "      <th>ebeveyn eğitimi</th>\n",
       "      <th>öğle yemeği</th>\n",
       "      <th>matematik</th>\n",
       "      <th>okuma</th>\n",
       "      <th>yazma</th>\n",
       "    </tr>\n",
       "  </thead>\n",
       "  <tbody>\n",
       "    <tr>\n",
       "      <th>937</th>\n",
       "      <td>kadın</td>\n",
       "      <td>E</td>\n",
       "      <td>high school</td>\n",
       "      <td>free/reduced</td>\n",
       "      <td>57</td>\n",
       "      <td>58</td>\n",
       "      <td>57</td>\n",
       "    </tr>\n",
       "    <tr>\n",
       "      <th>784</th>\n",
       "      <td>erkek</td>\n",
       "      <td>C</td>\n",
       "      <td>bachelor's degree</td>\n",
       "      <td>standard</td>\n",
       "      <td>91</td>\n",
       "      <td>81</td>\n",
       "      <td>79</td>\n",
       "    </tr>\n",
       "  </tbody>\n",
       "</table>\n",
       "</div>"
      ],
      "text/plain": [
       "    cinsiyet grup    ebeveyn eğitimi   öğle yemeği  matematik  okuma  yazma\n",
       "937    kadın    E        high school  free/reduced         57     58     57\n",
       "784    erkek    C  bachelor's degree      standard         91     81     79"
      ]
     },
     "execution_count": 120,
     "metadata": {},
     "output_type": "execute_result"
    }
   ],
   "source": [
    "df[\"cinsiyet\"]=df[\"cinsiyet\"].str.replace(\"feerkek\",\"kadın\")\n",
    "df.sample(2)"
   ]
  },
  {
   "cell_type": "code",
   "execution_count": 121,
   "id": "7a960352-62ca-4785-8613-037b2ea3e49d",
   "metadata": {},
   "outputs": [
    {
     "data": {
      "text/plain": [
       "cinsiyet           0\n",
       "grup               0\n",
       "ebeveyn eğitimi    0\n",
       "öğle yemeği        0\n",
       "matematik          0\n",
       "okuma              0\n",
       "yazma              0\n",
       "dtype: int64"
      ]
     },
     "execution_count": 121,
     "metadata": {},
     "output_type": "execute_result"
    }
   ],
   "source": [
    "df.isnull().sum()"
   ]
  },
  {
   "cell_type": "code",
   "execution_count": 122,
   "id": "92eca148-474e-4961-a41b-f6e86444ada9",
   "metadata": {},
   "outputs": [
    {
     "data": {
      "text/plain": [
       "cinsiyet           object\n",
       "grup               object\n",
       "ebeveyn eğitimi    object\n",
       "öğle yemeği        object\n",
       "matematik           int64\n",
       "okuma               int64\n",
       "yazma               int64\n",
       "dtype: object"
      ]
     },
     "execution_count": 122,
     "metadata": {},
     "output_type": "execute_result"
    }
   ],
   "source": [
    "df.dtypes"
   ]
  },
  {
   "cell_type": "code",
   "execution_count": 123,
   "id": "97b80306-4af9-4c67-86eb-8d03711ccbc6",
   "metadata": {},
   "outputs": [
    {
     "data": {
      "text/plain": [
       "(1000, 7)"
      ]
     },
     "execution_count": 123,
     "metadata": {},
     "output_type": "execute_result"
    }
   ],
   "source": [
    "df.shape"
   ]
  },
  {
   "cell_type": "code",
   "execution_count": 124,
   "id": "a99d3004-f989-4db7-b66e-7d1e233faba0",
   "metadata": {},
   "outputs": [
    {
     "data": {
      "text/plain": [
       "cinsiyet\n",
       "kadın    518\n",
       "erkek    482\n",
       "Name: count, dtype: int64"
      ]
     },
     "execution_count": 124,
     "metadata": {},
     "output_type": "execute_result"
    }
   ],
   "source": [
    "df[\"cinsiyet\"].value_counts()"
   ]
  },
  {
   "cell_type": "code",
   "execution_count": 125,
   "id": "9d36d0dd-ab3e-4007-919f-199ac05819d4",
   "metadata": {},
   "outputs": [
    {
     "data": {
      "text/plain": [
       "Index(['cinsiyet', 'grup', 'ebeveyn eğitimi', 'öğle yemeği', 'matematik',\n",
       "       'okuma', 'yazma'],\n",
       "      dtype='object')"
      ]
     },
     "execution_count": 125,
     "metadata": {},
     "output_type": "execute_result"
    }
   ],
   "source": [
    "df.columns"
   ]
  },
  {
   "cell_type": "code",
   "execution_count": 126,
   "id": "e909983a-b75d-428e-bfc2-980cd1ef0f5d",
   "metadata": {},
   "outputs": [
    {
     "data": {
      "text/plain": [
       "grup\n",
       " C    319\n",
       " D    262\n",
       " B    190\n",
       " E    140\n",
       " A     89\n",
       "Name: count, dtype: int64"
      ]
     },
     "execution_count": 126,
     "metadata": {},
     "output_type": "execute_result"
    }
   ],
   "source": [
    "df[\"grup\"].value_counts()"
   ]
  },
  {
   "cell_type": "code",
   "execution_count": 127,
   "id": "f7b038f2-87b9-4743-b8ea-a013d9d3d8e1",
   "metadata": {},
   "outputs": [
    {
     "data": {
      "text/plain": [
       "ebeveyn eğitimi\n",
       "some college          226\n",
       "associate's degree    222\n",
       "high school           196\n",
       "some high school      179\n",
       "bachelor's degree     118\n",
       "master's degree        59\n",
       "Name: count, dtype: int64"
      ]
     },
     "execution_count": 127,
     "metadata": {},
     "output_type": "execute_result"
    }
   ],
   "source": [
    "df[\"ebeveyn eğitimi\"].value_counts()"
   ]
  },
  {
   "cell_type": "code",
   "execution_count": 128,
   "id": "337d6d66-d85e-437c-a77b-7e9021e872f5",
   "metadata": {},
   "outputs": [
    {
     "data": {
      "text/plain": [
       "68.72821576763485"
      ]
     },
     "execution_count": 128,
     "metadata": {},
     "output_type": "execute_result"
    }
   ],
   "source": [
    "erkekler_df=df[df[\"cinsiyet\"]==\"erkek\"]\n",
    "ortalama_erkekler=erkekler_df[\"matematik\"].mean()\n",
    "ortalama_erkekler"
   ]
  },
  {
   "cell_type": "code",
   "execution_count": 129,
   "id": "cc21c649-7b45-4955-97e2-af1a313eeded",
   "metadata": {},
   "outputs": [
    {
     "data": {
      "text/plain": [
       "63.633204633204635"
      ]
     },
     "execution_count": 129,
     "metadata": {},
     "output_type": "execute_result"
    }
   ],
   "source": [
    "kadınlar_df=df[df[\"cinsiyet\"]==\"kadın\"]\n",
    "ortalama_kadınlar=kadınlar_df[\"matematik\"].mean()\n",
    "ortalama_kadınlar"
   ]
  },
  {
   "cell_type": "code",
   "execution_count": 130,
   "id": "edb4babc-60e5-437a-96c5-ed155cf76edc",
   "metadata": {},
   "outputs": [
    {
     "data": {
      "text/plain": [
       "74.82608695652173"
      ]
     },
     "execution_count": 130,
     "metadata": {},
     "output_type": "execute_result"
    }
   ],
   "source": [
    "ebeveyne_gore =  (df[\"cinsiyet\"]==\"erkek\") & (df[\"ebeveyn eğitimi\"]==\"master's degree\")\n",
    "master_erkekler_df=df[ebeveyne_gore]\n",
    "ortalama_ebeveyn = master_erkekler_df[\"matematik\"].mean()\n",
    "ortalama_ebeveyn"
   ]
  },
  {
   "cell_type": "code",
   "execution_count": 131,
   "id": "357a562b-5171-499e-8bab-f79f7f95bace",
   "metadata": {},
   "outputs": [
    {
     "data": {
      "text/plain": [
       "66.5"
      ]
     },
     "execution_count": 131,
     "metadata": {},
     "output_type": "execute_result"
    }
   ],
   "source": [
    "ebeveyne_gore = (df[\"cinsiyet\"]==\"kadın\") & (df[\"ebeveyn eğitimi\"]==\"master's degree\")\n",
    "master_kadınlar_df = df[ebeveyne_gore]\n",
    "ortalama_ebeveyn = master_kadınlar_df[\"matematik\"].mean()\n",
    "ortalama_ebeveyn"
   ]
  },
  {
   "cell_type": "code",
   "execution_count": 132,
   "id": "e7783b44-d7b4-4c1a-a89b-9d9d853969fe",
   "metadata": {},
   "outputs": [
    {
     "data": {
      "text/plain": [
       "64.70588235294117"
      ]
     },
     "execution_count": 132,
     "metadata": {},
     "output_type": "execute_result"
    }
   ],
   "source": [
    "ebeveyne_gore = (df[\"cinsiyet\"]==\"erkek\") & (df[\"ebeveyn eğitimi\"]==\"high school\")\n",
    "high_school_erkekler = df[ebeveyne_gore]\n",
    "ortalama_ebeveyn = high_school_erkekler[\"matematik\"].mean()\n",
    "ortalama_ebeveyn"
   ]
  },
  {
   "cell_type": "code",
   "execution_count": 133,
   "id": "17e27d28-4792-4631-ab03-6d3111a8606b",
   "metadata": {},
   "outputs": [
    {
     "data": {
      "text/plain": [
       "59.351063829787236"
      ]
     },
     "execution_count": 133,
     "metadata": {},
     "output_type": "execute_result"
    }
   ],
   "source": [
    "ebeveyne_gore = (df[\"cinsiyet\"]==\"kadın\") & (df[\"ebeveyn eğitimi\"]==\"high school\")\n",
    "high_school_kadınlar = df[ebeveyne_gore]\n",
    "ortalama_ebeveyn = high_school_kadınlar[\"matematik\"].mean()\n",
    "ortalama_ebeveyn"
   ]
  },
  {
   "cell_type": "code",
   "execution_count": 134,
   "id": "220daf2d-4836-4afe-940d-4e93bce530c3",
   "metadata": {},
   "outputs": [
    {
     "data": {
      "text/plain": [
       "70.76415094339623"
      ]
     },
     "execution_count": 134,
     "metadata": {},
     "output_type": "execute_result"
    }
   ],
   "source": [
    "ebeveyne_gore = (df[\"cinsiyet\"]==\"erkek\") & (df[\"ebeveyn eğitimi\"]==\"associate's degree\")\n",
    "associate_erkekler = df[ebeveyne_gore]\n",
    "ortalama_ebeveyn = associate_erkekler[\"matematik\"].mean()\n",
    "ortalama_ebeveyn"
   ]
  },
  {
   "cell_type": "code",
   "execution_count": 135,
   "id": "891e3e89-b4b6-4067-b860-7dd1ee28cf44",
   "metadata": {},
   "outputs": [
    {
     "data": {
      "text/plain": [
       "65.25"
      ]
     },
     "execution_count": 135,
     "metadata": {},
     "output_type": "execute_result"
    }
   ],
   "source": [
    "ebeveyne_gore = (df[\"cinsiyet\"]==\"kadın\") & (df[\"ebeveyn eğitimi\"]==\"associate's degree\")\n",
    "associate_kadınlar = df[ebeveyne_gore]\n",
    "ortalama_ebeveyn = associate_kadınlar[\"matematik\"].mean()\n",
    "ortalama_ebeveyn"
   ]
  },
  {
   "cell_type": "code",
   "execution_count": 136,
   "id": "a6ee81f9-d0ea-473b-9e27-f00cbc37ee77",
   "metadata": {},
   "outputs": [
    {
     "data": {
      "text/plain": [
       "67.8409090909091"
      ]
     },
     "execution_count": 136,
     "metadata": {},
     "output_type": "execute_result"
    }
   ],
   "source": [
    "ebeveyne_gore = (df[\"cinsiyet\"]==\"erkek\") & (df[\"ebeveyn eğitimi\"]==\"some high school\")\n",
    "some_high_school_erkekler = df[ebeveyne_gore]\n",
    "ortalama_ebeveyn = some_high_school_erkekler[\"matematik\"].mean()\n",
    "ortalama_ebeveyn"
   ]
  },
  {
   "cell_type": "code",
   "execution_count": 137,
   "id": "2fe69d76-f914-4390-8459-b8b8e64d9605",
   "metadata": {},
   "outputs": [
    {
     "data": {
      "text/plain": [
       "59.2967032967033"
      ]
     },
     "execution_count": 137,
     "metadata": {},
     "output_type": "execute_result"
    }
   ],
   "source": [
    "ebeveyne_gore = (df[\"cinsiyet\"]==\"kadın\") & (df[\"ebeveyn eğitimi\"]==\"some high school\")\n",
    "some_high_school_kadınlar = df[ebeveyne_gore]\n",
    "ortalama_ebeveyn = some_high_school_kadınlar[\"matematik\"].mean()\n",
    "ortalama_ebeveyn"
   ]
  },
  {
   "cell_type": "code",
   "execution_count": 138,
   "id": "daaa2505-b667-46b9-9a9e-cc2b7d3248fd",
   "metadata": {},
   "outputs": [
    {
     "data": {
      "text/html": [
       "<div>\n",
       "<style scoped>\n",
       "    .dataframe tbody tr th:only-of-type {\n",
       "        vertical-align: middle;\n",
       "    }\n",
       "\n",
       "    .dataframe tbody tr th {\n",
       "        vertical-align: top;\n",
       "    }\n",
       "\n",
       "    .dataframe thead th {\n",
       "        text-align: right;\n",
       "    }\n",
       "</style>\n",
       "<table border=\"1\" class=\"dataframe\">\n",
       "  <thead>\n",
       "    <tr style=\"text-align: right;\">\n",
       "      <th></th>\n",
       "      <th>cinsiyet</th>\n",
       "      <th>grup</th>\n",
       "      <th>ebeveyn eğitimi</th>\n",
       "      <th>öğle yemeği</th>\n",
       "      <th>matematik</th>\n",
       "      <th>okuma</th>\n",
       "      <th>yazma</th>\n",
       "    </tr>\n",
       "  </thead>\n",
       "  <tbody>\n",
       "    <tr>\n",
       "      <th>152</th>\n",
       "      <td>kadın</td>\n",
       "      <td>B</td>\n",
       "      <td>associate's degree</td>\n",
       "      <td>standard</td>\n",
       "      <td>59</td>\n",
       "      <td>70</td>\n",
       "      <td>66</td>\n",
       "    </tr>\n",
       "    <tr>\n",
       "      <th>820</th>\n",
       "      <td>kadın</td>\n",
       "      <td>A</td>\n",
       "      <td>some high school</td>\n",
       "      <td>standard</td>\n",
       "      <td>85</td>\n",
       "      <td>90</td>\n",
       "      <td>92</td>\n",
       "    </tr>\n",
       "    <tr>\n",
       "      <th>639</th>\n",
       "      <td>kadın</td>\n",
       "      <td>D</td>\n",
       "      <td>associate's degree</td>\n",
       "      <td>standard</td>\n",
       "      <td>76</td>\n",
       "      <td>74</td>\n",
       "      <td>73</td>\n",
       "    </tr>\n",
       "  </tbody>\n",
       "</table>\n",
       "</div>"
      ],
      "text/plain": [
       "    cinsiyet grup     ebeveyn eğitimi öğle yemeği  matematik  okuma  yazma\n",
       "152    kadın    B  associate's degree    standard         59     70     66\n",
       "820    kadın    A    some high school    standard         85     90     92\n",
       "639    kadın    D  associate's degree    standard         76     74     73"
      ]
     },
     "execution_count": 138,
     "metadata": {},
     "output_type": "execute_result"
    }
   ],
   "source": [
    "df.sample(3)"
   ]
  },
  {
   "cell_type": "code",
   "execution_count": 139,
   "id": "f54e53f8-ac36-49b7-98e8-06c33efcc2d7",
   "metadata": {},
   "outputs": [
    {
     "data": {
      "text/plain": [
       "öğle yemeği\n",
       "standard        645\n",
       "free/reduced    355\n",
       "Name: count, dtype: int64"
      ]
     },
     "execution_count": 139,
     "metadata": {},
     "output_type": "execute_result"
    }
   ],
   "source": [
    "df[\"öğle yemeği\"].value_counts()"
   ]
  },
  {
   "cell_type": "code",
   "execution_count": 140,
   "id": "f6a8d7fa-0e01-44d6-8657-c0b5adc87a22",
   "metadata": {},
   "outputs": [
    {
     "data": {
      "text/plain": [
       "72.02215189873418"
      ]
     },
     "execution_count": 140,
     "metadata": {},
     "output_type": "execute_result"
    }
   ],
   "source": [
    "yemege_gore = (df[\"cinsiyet\"]==\"erkek\") & (df[\"öğle yemeği\"]==\"standard\")\n",
    "ogle_yemegı_erkekler = df[yemege_gore]\n",
    "yemek_turu = ogle_yemegı_erkekler[\"matematik\"].mean()\n",
    "yemek_turu"
   ]
  },
  {
   "cell_type": "code",
   "execution_count": 141,
   "id": "6feb6337-a840-4d48-bdf8-24418a2a1136",
   "metadata": {},
   "outputs": [
    {
     "data": {
      "text/plain": [
       "62.45783132530121"
      ]
     },
     "execution_count": 141,
     "metadata": {},
     "output_type": "execute_result"
    }
   ],
   "source": [
    "yemege_gore = (df[\"cinsiyet\"]==\"erkek\") & (df[\"öğle yemeği\"]==\"free/reduced\")\n",
    "ogle_yemegı_erkekler = df[yemege_gore]\n",
    "yemek_turu = ogle_yemegı_erkekler[\"matematik\"].mean()\n",
    "yemek_turu"
   ]
  },
  {
   "cell_type": "code",
   "execution_count": 142,
   "id": "cf0d47c4-e94e-49c7-9988-d2a736590561",
   "metadata": {},
   "outputs": [
    {
     "data": {
      "text/plain": [
       "166"
      ]
     },
     "execution_count": 142,
     "metadata": {},
     "output_type": "execute_result"
    }
   ],
   "source": [
    "yemege_gore = (df[\"cinsiyet\"]==\"erkek\") & (df[\"öğle yemeği\"]==\"free/reduced\")\n",
    "ogle_yemegı_erkekler = df[yemege_gore]\n",
    "sonuc = ogle_yemegı_erkekler.shape[0]\n",
    "sonuc"
   ]
  },
  {
   "cell_type": "code",
   "execution_count": 143,
   "id": "5a6c43c8-8268-4d84-9e68-3f914b54b95e",
   "metadata": {},
   "outputs": [
    {
     "data": {
      "text/plain": [
       "316"
      ]
     },
     "execution_count": 143,
     "metadata": {},
     "output_type": "execute_result"
    }
   ],
   "source": [
    "yemege_gore = (df[\"cinsiyet\"]==\"erkek\") & (df[\"öğle yemeği\"]==\"standard\")\n",
    "ogle_yemegı_erkekler = df[yemege_gore]\n",
    "sonuc = ogle_yemegı_erkekler.shape[0]\n",
    "sonuc"
   ]
  },
  {
   "cell_type": "code",
   "execution_count": 144,
   "id": "c57d1bc7-7c58-4bdf-8d6a-a64ee7d590ca",
   "metadata": {},
   "outputs": [
    {
     "data": {
      "text/plain": [
       "65.47302904564316"
      ]
     },
     "execution_count": 144,
     "metadata": {},
     "output_type": "execute_result"
    }
   ],
   "source": [
    "ort_erkolar_df=df[df[\"cinsiyet\"]==\"erkek\"]\n",
    "ortalama_reading_erkek = ort_erkolar_df[\"okuma\"].mean()\n",
    "ortalama_reading_erkek"
   ]
  },
  {
   "cell_type": "code",
   "execution_count": 145,
   "id": "26954951-290b-417a-aa88-9db6d12ba2e6",
   "metadata": {},
   "outputs": [
    {
     "data": {
      "text/plain": [
       "72.60810810810811"
      ]
     },
     "execution_count": 145,
     "metadata": {},
     "output_type": "execute_result"
    }
   ],
   "source": [
    "ort_kadınlar_df = df[df[\"cinsiyet\"]==\"kadın\"]\n",
    "ort_reading_kadınlar = ort_kadınlar_df[\"okuma\"].mean()\n",
    "ort_reading_kadınlar"
   ]
  },
  {
   "cell_type": "code",
   "execution_count": 146,
   "id": "63487a93-2632-49da-adfa-e56bde377fda",
   "metadata": {},
   "outputs": [
    {
     "data": {
      "text/plain": [
       "482"
      ]
     },
     "execution_count": 146,
     "metadata": {},
     "output_type": "execute_result"
    }
   ],
   "source": [
    "okuma_erkekler_sayı = ort_erkolar_df[\"okuma\"].shape[0]\n",
    "okuma_erkekler_sayı"
   ]
  },
  {
   "cell_type": "code",
   "execution_count": 147,
   "id": "484a2cf6-cbdb-4b8d-a248-9a537a3d0ef5",
   "metadata": {},
   "outputs": [
    {
     "data": {
      "text/plain": [
       "518"
      ]
     },
     "execution_count": 147,
     "metadata": {},
     "output_type": "execute_result"
    }
   ],
   "source": [
    "okuma_kadınlar_sayı = ort_kadınlar_df[\"okuma\"].shape[0]\n",
    "okuma_kadınlar_sayı"
   ]
  },
  {
   "cell_type": "code",
   "execution_count": 148,
   "id": "ec077a63-b3eb-4dd9-b514-63e297c3e865",
   "metadata": {},
   "outputs": [
    {
     "data": {
      "text/plain": [
       "72.46718146718146"
      ]
     },
     "execution_count": 148,
     "metadata": {},
     "output_type": "execute_result"
    }
   ],
   "source": [
    "ortalama_women_df = df[df[\"cinsiyet\"]==\"kadın\"]\n",
    "ortalama_women_yazma = ortalama_women_df[\"yazma\"].mean()\n",
    "ortalama_women_yazma"
   ]
  },
  {
   "cell_type": "code",
   "execution_count": 149,
   "id": "d0318e61-d36a-4a4e-93ce-12cf30019fd5",
   "metadata": {},
   "outputs": [
    {
     "data": {
      "text/plain": [
       "63.31120331950208"
      ]
     },
     "execution_count": 149,
     "metadata": {},
     "output_type": "execute_result"
    }
   ],
   "source": [
    "ortalama_man_df = df[df[\"cinsiyet\"]==\"erkek\"]\n",
    "ortalama_man_yazma = ortalama_man_df[\"yazma\"].mean()\n",
    "ortalama_man_yazma"
   ]
  },
  {
   "cell_type": "code",
   "execution_count": 151,
   "id": "30f0946e-5876-4376-9657-0172d8fe8a69",
   "metadata": {},
   "outputs": [
    {
     "data": {
      "text/plain": [
       "67.5379746835443"
      ]
     },
     "execution_count": 151,
     "metadata": {},
     "output_type": "execute_result"
    }
   ],
   "source": [
    "ebeveyne_gore_okuma = (df[\"cinsiyet\"]==\"erkek\") & (df[\"öğle yemeği\"]==\"standard\")\n",
    "ort_ebeveyn_okuma_df = df[ebeveyne_gore_okuma]\n",
    "sonuc = ort_ebeveyn_okuma_df[\"okuma\"].mean()\n",
    "sonuc"
   ]
  },
  {
   "cell_type": "code",
   "execution_count": 152,
   "id": "6928d252-f28b-4824-af75-2fb850f2651a",
   "metadata": {},
   "outputs": [
    {
     "data": {
      "text/plain": [
       "61.54216867469879"
      ]
     },
     "execution_count": 152,
     "metadata": {},
     "output_type": "execute_result"
    }
   ],
   "source": [
    "ebeveyne_gore_okuma = (df[\"cinsiyet\"]==\"erkek\") & (df[\"öğle yemeği\"]==\"free/reduced\")\n",
    "ort_ebeveyn_okuma_df = df[ebeveyne_gore_okuma]\n",
    "sonuc = ort_ebeveyn_okuma_df[\"okuma\"].mean()\n",
    "sonuc"
   ]
  },
  {
   "cell_type": "code",
   "execution_count": 153,
   "id": "316fa1a6-de7c-4f1e-88a1-18647099ee23",
   "metadata": {},
   "outputs": [
    {
     "data": {
      "text/plain": [
       "75.6079027355623"
      ]
     },
     "execution_count": 153,
     "metadata": {},
     "output_type": "execute_result"
    }
   ],
   "source": [
    "ebeveyne_gore_okuma = (df[\"cinsiyet\"]==\"kadın\") & (df[\"öğle yemeği\"]==\"standard\")\n",
    "ort_ebeveyn_okuma_df = df[ebeveyne_gore_okuma]\n",
    "sonuc = ort_ebeveyn_okuma_df[\"okuma\"].mean()\n",
    "sonuc"
   ]
  },
  {
   "cell_type": "code",
   "execution_count": 154,
   "id": "44005daa-0f70-481c-80f8-f045cdf8b9aa",
   "metadata": {},
   "outputs": [
    {
     "data": {
      "text/plain": [
       "67.3862433862434"
      ]
     },
     "execution_count": 154,
     "metadata": {},
     "output_type": "execute_result"
    }
   ],
   "source": [
    "ebeveyne_gore_okuma = (df[\"cinsiyet\"]==\"kadın\") & (df[\"öğle yemeği\"]==\"free/reduced\")\n",
    "ort_ebeveyn_okuma_df = df[ebeveyne_gore_okuma]\n",
    "sonuc = ort_ebeveyn_okuma_df[\"okuma\"].mean()\n",
    "sonuc"
   ]
  },
  {
   "cell_type": "code",
   "execution_count": null,
   "id": "e0e031c5-5588-46ea-ad83-601efc15ce65",
   "metadata": {},
   "outputs": [],
   "source": []
  }
 ],
 "metadata": {
  "kernelspec": {
   "display_name": "Python 3 (ipykernel)",
   "language": "python",
   "name": "python3"
  },
  "language_info": {
   "codemirror_mode": {
    "name": "ipython",
    "version": 3
   },
   "file_extension": ".py",
   "mimetype": "text/x-python",
   "name": "python",
   "nbconvert_exporter": "python",
   "pygments_lexer": "ipython3",
   "version": "3.11.7"
  }
 },
 "nbformat": 4,
 "nbformat_minor": 5
}
